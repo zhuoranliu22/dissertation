{
 "cells": [
  {
   "cell_type": "code",
   "execution_count": 1,
   "id": "2215d231-a8dc-4e73-bfb5-3457c2b64b1c",
   "metadata": {},
   "outputs": [
    {
     "name": "stderr",
     "output_type": "stream",
     "text": [
      "<jemalloc>: MADV_DONTNEED does not work (memset will be used instead)\n",
      "<jemalloc>: (This is the expected behaviour if you are running under QEMU)\n"
     ]
    }
   ],
   "source": [
    "import dask.dataframe as dd\n",
    "# this should whatever your locomizer data file is\n",
    "#%time temp = dd.read_csv(\"../data/sample/signals_set_2.csv\")\n",
    "import pandas as pd"
   ]
  },
  {
   "cell_type": "code",
   "execution_count": 2,
   "id": "2e6da731-6f76-468d-afca-8bfd6bcc2684",
   "metadata": {},
   "outputs": [],
   "source": [
    "import pyarrow.parquet as pq\n",
    "import pyarrow.dataset as ds\n",
    "import pyarrow.compute as pc\n",
    "import pyarrow.feather as ft"
   ]
  },
  {
   "cell_type": "code",
   "execution_count": 6,
   "id": "3b70ca7b-e163-4468-a90a-f36d1fbf51ec",
   "metadata": {},
   "outputs": [],
   "source": [
    "dtype={'reg_share': 'float64'}"
   ]
  },
  {
   "cell_type": "code",
   "execution_count": 14,
   "id": "a98fdc45-830e-46ca-9818-e629bf4ccf4b",
   "metadata": {},
   "outputs": [
    {
     "name": "stdout",
     "output_type": "stream",
     "text": [
      "CPU times: user 37.5 ms, sys: 17.2 ms, total: 54.6 ms\n",
      "Wall time: 158 ms\n"
     ]
    }
   ],
   "source": [
    "%time app_epo = dd.read_csv('PATENTS/Patents/202001_EPO_App_reg.txt', delimiter='|', dtype=dtype)"
   ]
  },
  {
   "cell_type": "code",
   "execution_count": 10,
   "id": "9483907c-827e-45e6-8da8-ec7b40092e6f",
   "metadata": {},
   "outputs": [
    {
     "name": "stdout",
     "output_type": "stream",
     "text": [
      "CPU times: user 5.06 s, sys: 1.97 s, total: 7.03 s\n",
      "Wall time: 13 s\n"
     ]
    },
    {
     "data": {
      "text/html": [
       "<div>\n",
       "<style scoped>\n",
       "    .dataframe tbody tr th:only-of-type {\n",
       "        vertical-align: middle;\n",
       "    }\n",
       "\n",
       "    .dataframe tbody tr th {\n",
       "        vertical-align: top;\n",
       "    }\n",
       "\n",
       "    .dataframe thead th {\n",
       "        text-align: right;\n",
       "    }\n",
       "</style>\n",
       "<table border=\"1\" class=\"dataframe\">\n",
       "  <thead>\n",
       "    <tr style=\"text-align: right;\">\n",
       "      <th></th>\n",
       "      <th>app_nbr</th>\n",
       "      <th>appln_id</th>\n",
       "      <th>pub_nbr</th>\n",
       "      <th>person_id</th>\n",
       "      <th>app_name</th>\n",
       "      <th>address</th>\n",
       "      <th>reg_code</th>\n",
       "      <th>ctry_code</th>\n",
       "      <th>reg_share</th>\n",
       "      <th>app_share</th>\n",
       "    </tr>\n",
       "  </thead>\n",
       "  <tbody>\n",
       "    <tr>\n",
       "      <th>0</th>\n",
       "      <td>EP20000103094</td>\n",
       "      <td>1</td>\n",
       "      <td>1037159</td>\n",
       "      <td>1</td>\n",
       "      <td>Nokia Corporation</td>\n",
       "      <td>Keilalahdentie 4,02150 Espoo</td>\n",
       "      <td>FI1B1</td>\n",
       "      <td>FI</td>\n",
       "      <td>1.0</td>\n",
       "      <td>1.0</td>\n",
       "    </tr>\n",
       "    <tr>\n",
       "      <th>1</th>\n",
       "      <td>EP20000107845</td>\n",
       "      <td>2</td>\n",
       "      <td>1024191</td>\n",
       "      <td>7</td>\n",
       "      <td>Medical Research Council</td>\n",
       "      <td>20 Park Crescent,London W1B 1AL</td>\n",
       "      <td>UKI11</td>\n",
       "      <td>GB</td>\n",
       "      <td>1.0</td>\n",
       "      <td>0.5</td>\n",
       "    </tr>\n",
       "    <tr>\n",
       "      <th>2</th>\n",
       "      <td>EP20000107845</td>\n",
       "      <td>2</td>\n",
       "      <td>1024191</td>\n",
       "      <td>8</td>\n",
       "      <td>MEDIMMUNE LIMITED</td>\n",
       "      <td>Milstein Building Granta Park Cambridge,Cambri...</td>\n",
       "      <td>UKH12</td>\n",
       "      <td>GB</td>\n",
       "      <td>1.0</td>\n",
       "      <td>0.5</td>\n",
       "    </tr>\n",
       "    <tr>\n",
       "      <th>3</th>\n",
       "      <td>EP20000202556</td>\n",
       "      <td>3</td>\n",
       "      <td>1070969</td>\n",
       "      <td>20</td>\n",
       "      <td>Philips Intellectual Property &amp; Standards GmbH</td>\n",
       "      <td>Steindamm 94,20099 Hamburg</td>\n",
       "      <td>DE600</td>\n",
       "      <td>DE</td>\n",
       "      <td>1.0</td>\n",
       "      <td>0.5</td>\n",
       "    </tr>\n",
       "    <tr>\n",
       "      <th>4</th>\n",
       "      <td>EP20000202556</td>\n",
       "      <td>3</td>\n",
       "      <td>1070969</td>\n",
       "      <td>21</td>\n",
       "      <td>Koninklijke Philips Electronics N.V.</td>\n",
       "      <td>Groenewoudseweg 1,5621 BA Eindhoven</td>\n",
       "      <td>NL414</td>\n",
       "      <td>NL</td>\n",
       "      <td>1.0</td>\n",
       "      <td>0.5</td>\n",
       "    </tr>\n",
       "  </tbody>\n",
       "</table>\n",
       "</div>"
      ],
      "text/plain": [
       "         app_nbr  appln_id  pub_nbr  person_id  \\\n",
       "0  EP20000103094         1  1037159          1   \n",
       "1  EP20000107845         2  1024191          7   \n",
       "2  EP20000107845         2  1024191          8   \n",
       "3  EP20000202556         3  1070969         20   \n",
       "4  EP20000202556         3  1070969         21   \n",
       "\n",
       "                                         app_name  \\\n",
       "0                               Nokia Corporation   \n",
       "1                        Medical Research Council   \n",
       "2                               MEDIMMUNE LIMITED   \n",
       "3  Philips Intellectual Property & Standards GmbH   \n",
       "4            Koninklijke Philips Electronics N.V.   \n",
       "\n",
       "                                             address reg_code ctry_code  \\\n",
       "0                       Keilalahdentie 4,02150 Espoo    FI1B1        FI   \n",
       "1                    20 Park Crescent,London W1B 1AL    UKI11        GB   \n",
       "2  Milstein Building Granta Park Cambridge,Cambri...    UKH12        GB   \n",
       "3                         Steindamm 94,20099 Hamburg    DE600        DE   \n",
       "4                Groenewoudseweg 1,5621 BA Eindhoven    NL414        NL   \n",
       "\n",
       "   reg_share  app_share  \n",
       "0        1.0        1.0  \n",
       "1        1.0        0.5  \n",
       "2        1.0        0.5  \n",
       "3        1.0        0.5  \n",
       "4        1.0        0.5  "
      ]
     },
     "execution_count": 10,
     "metadata": {},
     "output_type": "execute_result"
    }
   ],
   "source": [
    "%time app_epo.head()"
   ]
  },
  {
   "cell_type": "code",
   "execution_count": 27,
   "id": "bd159da9-5a72-4839-ac32-5fddc14a3f42",
   "metadata": {},
   "outputs": [],
   "source": [
    "inv = pd.read_csv('data/inv_pharma_wIPC.csv')"
   ]
  },
  {
   "cell_type": "code",
   "execution_count": 16,
   "id": "0581387a-037b-4735-aced-e02e9d4ed290",
   "metadata": {},
   "outputs": [],
   "source": [
    "filtered_app_epo = app_epo[app_epo['app_nbr'].isin(inv['app_nbr'])]"
   ]
  },
  {
   "cell_type": "code",
   "execution_count": 17,
   "id": "f77a197c-7edd-4350-b057-14ae9ccf2ccd",
   "metadata": {},
   "outputs": [],
   "source": [
    "filtered_app_epo = filtered_app_epo.compute()"
   ]
  },
  {
   "cell_type": "code",
   "execution_count": 18,
   "id": "7030d703-ea11-408a-ac5e-73c5b4232eee",
   "metadata": {},
   "outputs": [],
   "source": [
    "filtered_app_epo.to_csv('app_epo.csv', index=False)"
   ]
  },
  {
   "cell_type": "code",
   "execution_count": 13,
   "id": "313be6a9-5f2e-4264-ac77-2daf20c2a8e1",
   "metadata": {},
   "outputs": [],
   "source": [
    "filtered_app_epo=pd.read_csv('app_epo.csv')"
   ]
  },
  {
   "cell_type": "code",
   "execution_count": 19,
   "id": "23ed943c-8921-49a9-b6f9-75c24589a56e",
   "metadata": {},
   "outputs": [
    {
     "data": {
      "text/html": [
       "<div>\n",
       "<style scoped>\n",
       "    .dataframe tbody tr th:only-of-type {\n",
       "        vertical-align: middle;\n",
       "    }\n",
       "\n",
       "    .dataframe tbody tr th {\n",
       "        vertical-align: top;\n",
       "    }\n",
       "\n",
       "    .dataframe thead th {\n",
       "        text-align: right;\n",
       "    }\n",
       "</style>\n",
       "<table border=\"1\" class=\"dataframe\">\n",
       "  <thead>\n",
       "    <tr style=\"text-align: right;\">\n",
       "      <th></th>\n",
       "      <th>app_nbr</th>\n",
       "      <th>appln_id</th>\n",
       "      <th>pub_nbr</th>\n",
       "      <th>person_id</th>\n",
       "      <th>app_name</th>\n",
       "      <th>address</th>\n",
       "      <th>reg_code</th>\n",
       "      <th>ctry_code</th>\n",
       "      <th>reg_share</th>\n",
       "      <th>app_share</th>\n",
       "    </tr>\n",
       "  </thead>\n",
       "  <tbody>\n",
       "    <tr>\n",
       "      <th>1</th>\n",
       "      <td>EP20000107845</td>\n",
       "      <td>2</td>\n",
       "      <td>1024191</td>\n",
       "      <td>7</td>\n",
       "      <td>Medical Research Council</td>\n",
       "      <td>20 Park Crescent,London W1B 1AL</td>\n",
       "      <td>UKI11</td>\n",
       "      <td>GB</td>\n",
       "      <td>1.0</td>\n",
       "      <td>0.5</td>\n",
       "    </tr>\n",
       "    <tr>\n",
       "      <th>2</th>\n",
       "      <td>EP20000107845</td>\n",
       "      <td>2</td>\n",
       "      <td>1024191</td>\n",
       "      <td>8</td>\n",
       "      <td>MEDIMMUNE LIMITED</td>\n",
       "      <td>Milstein Building Granta Park Cambridge,Cambri...</td>\n",
       "      <td>UKH12</td>\n",
       "      <td>GB</td>\n",
       "      <td>1.0</td>\n",
       "      <td>0.5</td>\n",
       "    </tr>\n",
       "    <tr>\n",
       "      <th>571</th>\n",
       "      <td>EP20080159140</td>\n",
       "      <td>589</td>\n",
       "      <td>2058311</td>\n",
       "      <td>1383</td>\n",
       "      <td>Boehringer Ingelheim Pharma GmbH &amp; Co. KG</td>\n",
       "      <td>Binger Strasse 173,55216 Ingelheim am Rhein</td>\n",
       "      <td>DEB3J</td>\n",
       "      <td>DE</td>\n",
       "      <td>1.0</td>\n",
       "      <td>1.0</td>\n",
       "    </tr>\n",
       "    <tr>\n",
       "      <th>572</th>\n",
       "      <td>EP20080159141</td>\n",
       "      <td>590</td>\n",
       "      <td>2070539</td>\n",
       "      <td>1383</td>\n",
       "      <td>Boehringer Ingelheim Pharma GmbH &amp; Co. KG</td>\n",
       "      <td>Binger Strasse 173,55216 Ingelheim am Rhein</td>\n",
       "      <td>DEB3J</td>\n",
       "      <td>DE</td>\n",
       "      <td>1.0</td>\n",
       "      <td>1.0</td>\n",
       "    </tr>\n",
       "    <tr>\n",
       "      <th>1046</th>\n",
       "      <td>EP20010940394</td>\n",
       "      <td>1254</td>\n",
       "      <td>1280510</td>\n",
       "      <td>2800</td>\n",
       "      <td>Unilever PLC</td>\n",
       "      <td>Unilever House 100 Victoria Embankment London,...</td>\n",
       "      <td>UKI11</td>\n",
       "      <td>GB</td>\n",
       "      <td>1.0</td>\n",
       "      <td>0.5</td>\n",
       "    </tr>\n",
       "  </tbody>\n",
       "</table>\n",
       "</div>"
      ],
      "text/plain": [
       "            app_nbr  appln_id  pub_nbr  person_id  \\\n",
       "1     EP20000107845         2  1024191          7   \n",
       "2     EP20000107845         2  1024191          8   \n",
       "571   EP20080159140       589  2058311       1383   \n",
       "572   EP20080159141       590  2070539       1383   \n",
       "1046  EP20010940394      1254  1280510       2800   \n",
       "\n",
       "                                       app_name  \\\n",
       "1                      Medical Research Council   \n",
       "2                             MEDIMMUNE LIMITED   \n",
       "571   Boehringer Ingelheim Pharma GmbH & Co. KG   \n",
       "572   Boehringer Ingelheim Pharma GmbH & Co. KG   \n",
       "1046                               Unilever PLC   \n",
       "\n",
       "                                                address reg_code ctry_code  \\\n",
       "1                       20 Park Crescent,London W1B 1AL    UKI11        GB   \n",
       "2     Milstein Building Granta Park Cambridge,Cambri...    UKH12        GB   \n",
       "571         Binger Strasse 173,55216 Ingelheim am Rhein    DEB3J        DE   \n",
       "572         Binger Strasse 173,55216 Ingelheim am Rhein    DEB3J        DE   \n",
       "1046  Unilever House 100 Victoria Embankment London,...    UKI11        GB   \n",
       "\n",
       "      reg_share  app_share  \n",
       "1           1.0        0.5  \n",
       "2           1.0        0.5  \n",
       "571         1.0        1.0  \n",
       "572         1.0        1.0  \n",
       "1046        1.0        0.5  "
      ]
     },
     "execution_count": 19,
     "metadata": {},
     "output_type": "execute_result"
    }
   ],
   "source": [
    "filtered_app_epo.head()"
   ]
  },
  {
   "cell_type": "code",
   "execution_count": 22,
   "id": "2cf83810-45a5-4725-9dce-41e6b5550c2e",
   "metadata": {},
   "outputs": [
    {
     "data": {
      "text/plain": [
       "31283"
      ]
     },
     "execution_count": 22,
     "metadata": {},
     "output_type": "execute_result"
    }
   ],
   "source": [
    "len(filtered_app_epo['app_nbr'].unique())"
   ]
  },
  {
   "cell_type": "code",
   "execution_count": 25,
   "id": "aa5d8a31-fc97-4013-aa1a-7714daa06a1a",
   "metadata": {},
   "outputs": [
    {
     "data": {
      "text/plain": [
       "31445"
      ]
     },
     "execution_count": 25,
     "metadata": {},
     "output_type": "execute_result"
    }
   ],
   "source": [
    "len(inv['app_nbr'].unique())"
   ]
  },
  {
   "cell_type": "code",
   "execution_count": 26,
   "id": "aaac0c78-c8cc-48c7-a1ea-21d8dd56dde2",
   "metadata": {},
   "outputs": [],
   "source": [
    "inv_not_in = inv[~inv['app_nbr'].isin(filtered_app_epo['app_nbr'])]"
   ]
  },
  {
   "cell_type": "code",
   "execution_count": 27,
   "id": "0ac54862-93b6-454c-a7ba-08368e442c67",
   "metadata": {},
   "outputs": [
    {
     "data": {
      "text/plain": [
       "162"
      ]
     },
     "execution_count": 27,
     "metadata": {},
     "output_type": "execute_result"
    }
   ],
   "source": [
    "len(inv_not_in['app_nbr'].unique())"
   ]
  },
  {
   "cell_type": "code",
   "execution_count": 29,
   "id": "15574e13-5fef-464f-9b70-a9230b1484f9",
   "metadata": {},
   "outputs": [],
   "source": [
    "inv_not_in.to_csv('app_not_in_epo.csv', index=False)"
   ]
  },
  {
   "cell_type": "code",
   "execution_count": 3,
   "id": "3db08434-a317-4cea-be07-285da890fbbb",
   "metadata": {},
   "outputs": [],
   "source": [
    "inv_not_in = pd.read_csv('app_not_in_epo.csv')"
   ]
  },
  {
   "cell_type": "code",
   "execution_count": 4,
   "id": "00d2d56b-c2d5-4466-9619-6db65df16319",
   "metadata": {},
   "outputs": [
    {
     "data": {
      "text/html": [
       "<div>\n",
       "<style scoped>\n",
       "    .dataframe tbody tr th:only-of-type {\n",
       "        vertical-align: middle;\n",
       "    }\n",
       "\n",
       "    .dataframe tbody tr th {\n",
       "        vertical-align: top;\n",
       "    }\n",
       "\n",
       "    .dataframe thead th {\n",
       "        text-align: right;\n",
       "    }\n",
       "</style>\n",
       "<table border=\"1\" class=\"dataframe\">\n",
       "  <thead>\n",
       "    <tr style=\"text-align: right;\">\n",
       "      <th></th>\n",
       "      <th>Unnamed: 0</th>\n",
       "      <th>app_nbr</th>\n",
       "      <th>appln_id</th>\n",
       "      <th>person_id</th>\n",
       "      <th>inv_name</th>\n",
       "      <th>address</th>\n",
       "      <th>reg_code</th>\n",
       "      <th>ctry_code</th>\n",
       "      <th>prio_year</th>\n",
       "      <th>app_year</th>\n",
       "      <th>IPC</th>\n",
       "    </tr>\n",
       "  </thead>\n",
       "  <tbody>\n",
       "    <tr>\n",
       "      <th>0</th>\n",
       "      <td>92640</td>\n",
       "      <td>EP20000932586</td>\n",
       "      <td>15769302.0</td>\n",
       "      <td>917423.0</td>\n",
       "      <td>ASHCROFT, Gillian, S.</td>\n",
       "      <td>65 Orrell Lane, Burscough,Nr. Ormskirk, Lancas...</td>\n",
       "      <td>UKD43</td>\n",
       "      <td>GB</td>\n",
       "      <td>2000.0</td>\n",
       "      <td>2000.0</td>\n",
       "      <td>A61K038/00</td>\n",
       "    </tr>\n",
       "    <tr>\n",
       "      <th>1</th>\n",
       "      <td>92641</td>\n",
       "      <td>EP20000932586</td>\n",
       "      <td>15769302.0</td>\n",
       "      <td>917423.0</td>\n",
       "      <td>ASHCROFT, Gillian, S.</td>\n",
       "      <td>65 Orrell Lane, Burscough,Nr. Ormskirk, Lancas...</td>\n",
       "      <td>UKD43</td>\n",
       "      <td>GB</td>\n",
       "      <td>2000.0</td>\n",
       "      <td>2000.0</td>\n",
       "      <td>A61K038/17</td>\n",
       "    </tr>\n",
       "    <tr>\n",
       "      <th>2</th>\n",
       "      <td>92642</td>\n",
       "      <td>EP20000932586</td>\n",
       "      <td>15769302.0</td>\n",
       "      <td>917423.0</td>\n",
       "      <td>ASHCROFT, Gillian, S.</td>\n",
       "      <td>65 Orrell Lane, Burscough,Nr. Ormskirk, Lancas...</td>\n",
       "      <td>UKD43</td>\n",
       "      <td>GB</td>\n",
       "      <td>2000.0</td>\n",
       "      <td>2000.0</td>\n",
       "      <td>A61K045/00</td>\n",
       "    </tr>\n",
       "    <tr>\n",
       "      <th>3</th>\n",
       "      <td>92643</td>\n",
       "      <td>EP20000932586</td>\n",
       "      <td>15769302.0</td>\n",
       "      <td>917423.0</td>\n",
       "      <td>ASHCROFT, Gillian, S.</td>\n",
       "      <td>65 Orrell Lane, Burscough,Nr. Ormskirk, Lancas...</td>\n",
       "      <td>UKD43</td>\n",
       "      <td>GB</td>\n",
       "      <td>2000.0</td>\n",
       "      <td>2000.0</td>\n",
       "      <td>A61P017/02</td>\n",
       "    </tr>\n",
       "    <tr>\n",
       "      <th>4</th>\n",
       "      <td>92644</td>\n",
       "      <td>EP20000932586</td>\n",
       "      <td>15769302.0</td>\n",
       "      <td>917423.0</td>\n",
       "      <td>ASHCROFT, Gillian, S.</td>\n",
       "      <td>65 Orrell Lane, Burscough,Nr. Ormskirk, Lancas...</td>\n",
       "      <td>UKD43</td>\n",
       "      <td>GB</td>\n",
       "      <td>2000.0</td>\n",
       "      <td>2000.0</td>\n",
       "      <td>A61P019/04</td>\n",
       "    </tr>\n",
       "  </tbody>\n",
       "</table>\n",
       "</div>"
      ],
      "text/plain": [
       "   Unnamed: 0        app_nbr    appln_id  person_id               inv_name  \\\n",
       "0       92640  EP20000932586  15769302.0   917423.0  ASHCROFT, Gillian, S.   \n",
       "1       92641  EP20000932586  15769302.0   917423.0  ASHCROFT, Gillian, S.   \n",
       "2       92642  EP20000932586  15769302.0   917423.0  ASHCROFT, Gillian, S.   \n",
       "3       92643  EP20000932586  15769302.0   917423.0  ASHCROFT, Gillian, S.   \n",
       "4       92644  EP20000932586  15769302.0   917423.0  ASHCROFT, Gillian, S.   \n",
       "\n",
       "                                             address reg_code ctry_code  \\\n",
       "0  65 Orrell Lane, Burscough,Nr. Ormskirk, Lancas...    UKD43        GB   \n",
       "1  65 Orrell Lane, Burscough,Nr. Ormskirk, Lancas...    UKD43        GB   \n",
       "2  65 Orrell Lane, Burscough,Nr. Ormskirk, Lancas...    UKD43        GB   \n",
       "3  65 Orrell Lane, Burscough,Nr. Ormskirk, Lancas...    UKD43        GB   \n",
       "4  65 Orrell Lane, Burscough,Nr. Ormskirk, Lancas...    UKD43        GB   \n",
       "\n",
       "   prio_year  app_year         IPC  \n",
       "0     2000.0    2000.0  A61K038/00  \n",
       "1     2000.0    2000.0  A61K038/17  \n",
       "2     2000.0    2000.0  A61K045/00  \n",
       "3     2000.0    2000.0  A61P017/02  \n",
       "4     2000.0    2000.0  A61P019/04  "
      ]
     },
     "execution_count": 4,
     "metadata": {},
     "output_type": "execute_result"
    }
   ],
   "source": [
    "inv_not_in.head()"
   ]
  },
  {
   "cell_type": "code",
   "execution_count": 5,
   "id": "56302512-4d95-42f7-aae5-a7246434ec69",
   "metadata": {},
   "outputs": [
    {
     "data": {
      "text/plain": [
       "array(['GB', nan], dtype=object)"
      ]
     },
     "execution_count": 5,
     "metadata": {},
     "output_type": "execute_result"
    }
   ],
   "source": [
    "inv_not_in['ctry_code'].unique()"
   ]
  },
  {
   "cell_type": "code",
   "execution_count": 31,
   "id": "44067571-6625-4662-8c29-423eb9083baa",
   "metadata": {},
   "outputs": [
    {
     "name": "stdout",
     "output_type": "stream",
     "text": [
      "CPU times: user 22.4 ms, sys: 2.94 ms, total: 25.4 ms\n",
      "Wall time: 22.8 ms\n"
     ]
    }
   ],
   "source": [
    "%time epo_pct = dd.read_csv('PATENTS/Patents/202001_EPO_PCT.txt', delimiter='|')"
   ]
  },
  {
   "cell_type": "code",
   "execution_count": 32,
   "id": "23c1b8c6-2e28-4f19-ba20-33bb089d6111",
   "metadata": {},
   "outputs": [],
   "source": [
    "filtered_epo_pct = epo_pct[epo_pct['app_nbr'].isin(inv_not_in['app_nbr'])]"
   ]
  },
  {
   "cell_type": "code",
   "execution_count": 33,
   "id": "dcdb7d07-0a65-44fc-b7bf-0451990e45f1",
   "metadata": {},
   "outputs": [],
   "source": [
    "filtered_epo_pct = filtered_epo_pct.compute()"
   ]
  },
  {
   "cell_type": "code",
   "execution_count": 34,
   "id": "c5c1040d-5c4e-4981-8e22-f866b590f0bb",
   "metadata": {},
   "outputs": [
    {
     "data": {
      "text/plain": [
       "162"
      ]
     },
     "execution_count": 34,
     "metadata": {},
     "output_type": "execute_result"
    }
   ],
   "source": [
    "len(filtered_epo_pct['app_nbr'].unique())"
   ]
  },
  {
   "cell_type": "code",
   "execution_count": 35,
   "id": "2226453c-4537-4710-9427-c99805cf9680",
   "metadata": {},
   "outputs": [],
   "source": [
    "filtered_epo_pct.to_csv('epo_pct_app.csv', index=False)"
   ]
  },
  {
   "cell_type": "code",
   "execution_count": 15,
   "id": "d30ff8c4-c0fc-479d-9fe1-5701665366db",
   "metadata": {},
   "outputs": [],
   "source": [
    "filtered_epo_pct=pd.read_csv('epo_pct_app.csv')"
   ]
  },
  {
   "cell_type": "code",
   "execution_count": 7,
   "id": "bafe05df-1bdf-46c3-b5dc-5fe596e6a75a",
   "metadata": {},
   "outputs": [],
   "source": [
    "dtype={'app_share': 'float64',\n",
    "       'appln_id': 'float64',\n",
    "      'reg_share': 'float64'}"
   ]
  },
  {
   "cell_type": "code",
   "execution_count": 8,
   "id": "51afd298-e82c-41fd-92f7-98a47437b4d6",
   "metadata": {},
   "outputs": [
    {
     "name": "stdout",
     "output_type": "stream",
     "text": [
      "CPU times: user 45.5 ms, sys: 9.03 ms, total: 54.5 ms\n",
      "Wall time: 168 ms\n"
     ]
    }
   ],
   "source": [
    "%time app_pct = dd.read_csv('PATENTS/Patents/202001_PCT_App_reg.txt', delimiter='|', dtype=dtype)"
   ]
  },
  {
   "cell_type": "code",
   "execution_count": 9,
   "id": "5c1e278c-ac9a-430c-9494-be30976bc8b1",
   "metadata": {},
   "outputs": [],
   "source": [
    "filtered_app_pct = app_pct[app_pct['pct_nbr'].isin(filtered_epo_pct['pct_nbr'])]\n",
    "filtered_app_pct = filtered_app_pct[filtered_app_pct['ctry_code'] == 'GB']"
   ]
  },
  {
   "cell_type": "code",
   "execution_count": 10,
   "id": "7fdeb15d-7fae-4f6f-b00b-08208ab49e09",
   "metadata": {},
   "outputs": [
    {
     "data": {
      "text/html": [
       "<div>\n",
       "<style scoped>\n",
       "    .dataframe tbody tr th:only-of-type {\n",
       "        vertical-align: middle;\n",
       "    }\n",
       "\n",
       "    .dataframe tbody tr th {\n",
       "        vertical-align: top;\n",
       "    }\n",
       "\n",
       "    .dataframe thead th {\n",
       "        text-align: right;\n",
       "    }\n",
       "</style>\n",
       "<table border=\"1\" class=\"dataframe\">\n",
       "  <thead>\n",
       "    <tr style=\"text-align: right;\">\n",
       "      <th></th>\n",
       "      <th>pct_nbr</th>\n",
       "      <th>internat_appln_nr</th>\n",
       "      <th>appln_id</th>\n",
       "      <th>app_name</th>\n",
       "      <th>address</th>\n",
       "      <th>reg_code</th>\n",
       "      <th>ctry_code</th>\n",
       "      <th>reg_share</th>\n",
       "      <th>app_share</th>\n",
       "    </tr>\n",
       "  </thead>\n",
       "  <tbody>\n",
       "    <tr>\n",
       "      <th>104229</th>\n",
       "      <td>WO1992004469</td>\n",
       "      <td>WO1991GB01517</td>\n",
       "      <td>23032911.0</td>\n",
       "      <td>IMPERIAL CHEMICAL INDUSTRIES PLC</td>\n",
       "      <td>London SW1P 3JF</td>\n",
       "      <td>UKI11</td>\n",
       "      <td>GB</td>\n",
       "      <td>1.0</td>\n",
       "      <td>1.0</td>\n",
       "    </tr>\n",
       "    <tr>\n",
       "      <th>127066</th>\n",
       "      <td>WO1993003042</td>\n",
       "      <td>WO1992GB01306</td>\n",
       "      <td>23062471.0</td>\n",
       "      <td>SMITHKLINE BEECHAM PLC</td>\n",
       "      <td>Middlesex TW8 9EP</td>\n",
       "      <td>UKI23</td>\n",
       "      <td>GB</td>\n",
       "      <td>1.0</td>\n",
       "      <td>1.0</td>\n",
       "    </tr>\n",
       "    <tr>\n",
       "      <th>194701</th>\n",
       "      <td>WO1995009915</td>\n",
       "      <td>WO1994GB02172</td>\n",
       "      <td>23123494.0</td>\n",
       "      <td>NBL GENE SCIENCES LIMITED</td>\n",
       "      <td>Northumberland NE23 9HL</td>\n",
       "      <td>UKC21</td>\n",
       "      <td>GB</td>\n",
       "      <td>1.0</td>\n",
       "      <td>1.0</td>\n",
       "    </tr>\n",
       "    <tr>\n",
       "      <th>223379</th>\n",
       "      <td>WO1996000785</td>\n",
       "      <td>WO1995GB01517</td>\n",
       "      <td>23151498.0</td>\n",
       "      <td>The Scottish Agricultural College</td>\n",
       "      <td>Ayr KA6 5HW</td>\n",
       "      <td>UKM37</td>\n",
       "      <td>GB</td>\n",
       "      <td>1.0</td>\n",
       "      <td>0.5</td>\n",
       "    </tr>\n",
       "    <tr>\n",
       "      <th>223380</th>\n",
       "      <td>WO1996000785</td>\n",
       "      <td>WO1995GB01517</td>\n",
       "      <td>23151498.0</td>\n",
       "      <td>THE VICTORIA UNIVERSITY OF MANCHESTER</td>\n",
       "      <td>Manchester M13 9PL</td>\n",
       "      <td>UKD31</td>\n",
       "      <td>GB</td>\n",
       "      <td>1.0</td>\n",
       "      <td>0.5</td>\n",
       "    </tr>\n",
       "  </tbody>\n",
       "</table>\n",
       "</div>"
      ],
      "text/plain": [
       "             pct_nbr internat_appln_nr    appln_id  \\\n",
       "104229  WO1992004469     WO1991GB01517  23032911.0   \n",
       "127066  WO1993003042     WO1992GB01306  23062471.0   \n",
       "194701  WO1995009915     WO1994GB02172  23123494.0   \n",
       "223379  WO1996000785     WO1995GB01517  23151498.0   \n",
       "223380  WO1996000785     WO1995GB01517  23151498.0   \n",
       "\n",
       "                                     app_name                  address  \\\n",
       "104229       IMPERIAL CHEMICAL INDUSTRIES PLC          London SW1P 3JF   \n",
       "127066                 SMITHKLINE BEECHAM PLC        Middlesex TW8 9EP   \n",
       "194701              NBL GENE SCIENCES LIMITED  Northumberland NE23 9HL   \n",
       "223379      The Scottish Agricultural College              Ayr KA6 5HW   \n",
       "223380  THE VICTORIA UNIVERSITY OF MANCHESTER       Manchester M13 9PL   \n",
       "\n",
       "       reg_code ctry_code  reg_share  app_share  \n",
       "104229    UKI11        GB        1.0        1.0  \n",
       "127066    UKI23        GB        1.0        1.0  \n",
       "194701    UKC21        GB        1.0        1.0  \n",
       "223379    UKM37        GB        1.0        0.5  \n",
       "223380    UKD31        GB        1.0        0.5  "
      ]
     },
     "execution_count": 10,
     "metadata": {},
     "output_type": "execute_result"
    }
   ],
   "source": [
    "filtered_app_pct.head()"
   ]
  },
  {
   "cell_type": "code",
   "execution_count": 7,
   "id": "c478cd5a-09c4-44fe-8704-d3f190c9e338",
   "metadata": {},
   "outputs": [
    {
     "data": {
      "text/plain": [
       "179"
      ]
     },
     "execution_count": 7,
     "metadata": {},
     "output_type": "execute_result"
    }
   ],
   "source": [
    "len(filtered_app_pct)"
   ]
  },
  {
   "cell_type": "code",
   "execution_count": 11,
   "id": "c8476b27-2312-49e0-896a-f44a82d0737e",
   "metadata": {},
   "outputs": [],
   "source": [
    "filtered_app_pct = filtered_app_pct.compute()"
   ]
  },
  {
   "cell_type": "code",
   "execution_count": 12,
   "id": "5d621e67-6155-4fe1-8a60-0f84db70ce38",
   "metadata": {},
   "outputs": [],
   "source": [
    "filtered_app_pct.to_csv('app_pct.csv', index=False)"
   ]
  },
  {
   "cell_type": "code",
   "execution_count": 14,
   "id": "4b847e33-7765-4ab7-8344-523ac2af4be1",
   "metadata": {},
   "outputs": [
    {
     "data": {
      "text/plain": [
       "105"
      ]
     },
     "execution_count": 14,
     "metadata": {},
     "output_type": "execute_result"
    }
   ],
   "source": [
    "len(filtered_app_pct['pct_nbr'].unique())"
   ]
  },
  {
   "cell_type": "code",
   "execution_count": 16,
   "id": "90a82546-cc47-4f2b-9a76-04a93affc074",
   "metadata": {},
   "outputs": [],
   "source": [
    "filtered_app_pct = pd.merge(filtered_app_pct, filtered_epo_pct, on='pct_nbr', how='left')"
   ]
  },
  {
   "cell_type": "code",
   "execution_count": 17,
   "id": "cf655fbe-f487-4105-86df-3a86de937174",
   "metadata": {},
   "outputs": [
    {
     "data": {
      "text/html": [
       "<div>\n",
       "<style scoped>\n",
       "    .dataframe tbody tr th:only-of-type {\n",
       "        vertical-align: middle;\n",
       "    }\n",
       "\n",
       "    .dataframe tbody tr th {\n",
       "        vertical-align: top;\n",
       "    }\n",
       "\n",
       "    .dataframe thead th {\n",
       "        text-align: right;\n",
       "    }\n",
       "</style>\n",
       "<table border=\"1\" class=\"dataframe\">\n",
       "  <thead>\n",
       "    <tr style=\"text-align: right;\">\n",
       "      <th></th>\n",
       "      <th>pct_nbr</th>\n",
       "      <th>internat_appln_nr</th>\n",
       "      <th>appln_id</th>\n",
       "      <th>app_name</th>\n",
       "      <th>address</th>\n",
       "      <th>reg_code</th>\n",
       "      <th>ctry_code</th>\n",
       "      <th>reg_share</th>\n",
       "      <th>app_share</th>\n",
       "      <th>app_nbr</th>\n",
       "    </tr>\n",
       "  </thead>\n",
       "  <tbody>\n",
       "    <tr>\n",
       "      <th>0</th>\n",
       "      <td>WO1992004469</td>\n",
       "      <td>WO1991GB01517</td>\n",
       "      <td>23032911.0</td>\n",
       "      <td>IMPERIAL CHEMICAL INDUSTRIES PLC</td>\n",
       "      <td>London SW1P 3JF</td>\n",
       "      <td>UKI11</td>\n",
       "      <td>GB</td>\n",
       "      <td>1.0</td>\n",
       "      <td>1.0</td>\n",
       "      <td>EP19910916485</td>\n",
       "    </tr>\n",
       "    <tr>\n",
       "      <th>1</th>\n",
       "      <td>WO1993003042</td>\n",
       "      <td>WO1992GB01306</td>\n",
       "      <td>23062471.0</td>\n",
       "      <td>SMITHKLINE BEECHAM PLC</td>\n",
       "      <td>Middlesex TW8 9EP</td>\n",
       "      <td>UKI23</td>\n",
       "      <td>GB</td>\n",
       "      <td>1.0</td>\n",
       "      <td>1.0</td>\n",
       "      <td>EP19920915476</td>\n",
       "    </tr>\n",
       "    <tr>\n",
       "      <th>2</th>\n",
       "      <td>WO1995009915</td>\n",
       "      <td>WO1994GB02172</td>\n",
       "      <td>23123494.0</td>\n",
       "      <td>NBL GENE SCIENCES LIMITED</td>\n",
       "      <td>Northumberland NE23 9HL</td>\n",
       "      <td>UKC21</td>\n",
       "      <td>GB</td>\n",
       "      <td>1.0</td>\n",
       "      <td>1.0</td>\n",
       "      <td>EP19940928473</td>\n",
       "    </tr>\n",
       "    <tr>\n",
       "      <th>3</th>\n",
       "      <td>WO1996000785</td>\n",
       "      <td>WO1995GB01517</td>\n",
       "      <td>23151498.0</td>\n",
       "      <td>The Scottish Agricultural College</td>\n",
       "      <td>Ayr KA6 5HW</td>\n",
       "      <td>UKM37</td>\n",
       "      <td>GB</td>\n",
       "      <td>1.0</td>\n",
       "      <td>0.5</td>\n",
       "      <td>EP19950923439</td>\n",
       "    </tr>\n",
       "    <tr>\n",
       "      <th>4</th>\n",
       "      <td>WO1996000785</td>\n",
       "      <td>WO1995GB01517</td>\n",
       "      <td>23151498.0</td>\n",
       "      <td>THE VICTORIA UNIVERSITY OF MANCHESTER</td>\n",
       "      <td>Manchester M13 9PL</td>\n",
       "      <td>UKD31</td>\n",
       "      <td>GB</td>\n",
       "      <td>1.0</td>\n",
       "      <td>0.5</td>\n",
       "      <td>EP19950923439</td>\n",
       "    </tr>\n",
       "  </tbody>\n",
       "</table>\n",
       "</div>"
      ],
      "text/plain": [
       "        pct_nbr internat_appln_nr    appln_id  \\\n",
       "0  WO1992004469     WO1991GB01517  23032911.0   \n",
       "1  WO1993003042     WO1992GB01306  23062471.0   \n",
       "2  WO1995009915     WO1994GB02172  23123494.0   \n",
       "3  WO1996000785     WO1995GB01517  23151498.0   \n",
       "4  WO1996000785     WO1995GB01517  23151498.0   \n",
       "\n",
       "                                app_name                  address reg_code  \\\n",
       "0       IMPERIAL CHEMICAL INDUSTRIES PLC          London SW1P 3JF    UKI11   \n",
       "1                 SMITHKLINE BEECHAM PLC        Middlesex TW8 9EP    UKI23   \n",
       "2              NBL GENE SCIENCES LIMITED  Northumberland NE23 9HL    UKC21   \n",
       "3      The Scottish Agricultural College              Ayr KA6 5HW    UKM37   \n",
       "4  THE VICTORIA UNIVERSITY OF MANCHESTER       Manchester M13 9PL    UKD31   \n",
       "\n",
       "  ctry_code  reg_share  app_share        app_nbr  \n",
       "0        GB        1.0        1.0  EP19910916485  \n",
       "1        GB        1.0        1.0  EP19920915476  \n",
       "2        GB        1.0        1.0  EP19940928473  \n",
       "3        GB        1.0        0.5  EP19950923439  \n",
       "4        GB        1.0        0.5  EP19950923439  "
      ]
     },
     "execution_count": 17,
     "metadata": {},
     "output_type": "execute_result"
    }
   ],
   "source": [
    "filtered_app_pct.head()"
   ]
  },
  {
   "cell_type": "code",
   "execution_count": 18,
   "id": "ac180f89-4f33-4b77-b0ff-822e626ba002",
   "metadata": {},
   "outputs": [
    {
     "data": {
      "text/html": [
       "<div>\n",
       "<style scoped>\n",
       "    .dataframe tbody tr th:only-of-type {\n",
       "        vertical-align: middle;\n",
       "    }\n",
       "\n",
       "    .dataframe tbody tr th {\n",
       "        vertical-align: top;\n",
       "    }\n",
       "\n",
       "    .dataframe thead th {\n",
       "        text-align: right;\n",
       "    }\n",
       "</style>\n",
       "<table border=\"1\" class=\"dataframe\">\n",
       "  <thead>\n",
       "    <tr style=\"text-align: right;\">\n",
       "      <th></th>\n",
       "      <th>app_nbr</th>\n",
       "      <th>appln_id</th>\n",
       "      <th>pub_nbr</th>\n",
       "      <th>person_id</th>\n",
       "      <th>app_name</th>\n",
       "      <th>address</th>\n",
       "      <th>reg_code</th>\n",
       "      <th>ctry_code</th>\n",
       "      <th>reg_share</th>\n",
       "      <th>app_share</th>\n",
       "    </tr>\n",
       "  </thead>\n",
       "  <tbody>\n",
       "    <tr>\n",
       "      <th>0</th>\n",
       "      <td>EP20000107845</td>\n",
       "      <td>2</td>\n",
       "      <td>1024191</td>\n",
       "      <td>7</td>\n",
       "      <td>Medical Research Council</td>\n",
       "      <td>20 Park Crescent,London W1B 1AL</td>\n",
       "      <td>UKI11</td>\n",
       "      <td>GB</td>\n",
       "      <td>1.0</td>\n",
       "      <td>0.5</td>\n",
       "    </tr>\n",
       "    <tr>\n",
       "      <th>1</th>\n",
       "      <td>EP20000107845</td>\n",
       "      <td>2</td>\n",
       "      <td>1024191</td>\n",
       "      <td>8</td>\n",
       "      <td>MEDIMMUNE LIMITED</td>\n",
       "      <td>Milstein Building Granta Park Cambridge,Cambri...</td>\n",
       "      <td>UKH12</td>\n",
       "      <td>GB</td>\n",
       "      <td>1.0</td>\n",
       "      <td>0.5</td>\n",
       "    </tr>\n",
       "    <tr>\n",
       "      <th>2</th>\n",
       "      <td>EP20080159140</td>\n",
       "      <td>589</td>\n",
       "      <td>2058311</td>\n",
       "      <td>1383</td>\n",
       "      <td>Boehringer Ingelheim Pharma GmbH &amp; Co. KG</td>\n",
       "      <td>Binger Strasse 173,55216 Ingelheim am Rhein</td>\n",
       "      <td>DEB3J</td>\n",
       "      <td>DE</td>\n",
       "      <td>1.0</td>\n",
       "      <td>1.0</td>\n",
       "    </tr>\n",
       "    <tr>\n",
       "      <th>3</th>\n",
       "      <td>EP20080159141</td>\n",
       "      <td>590</td>\n",
       "      <td>2070539</td>\n",
       "      <td>1383</td>\n",
       "      <td>Boehringer Ingelheim Pharma GmbH &amp; Co. KG</td>\n",
       "      <td>Binger Strasse 173,55216 Ingelheim am Rhein</td>\n",
       "      <td>DEB3J</td>\n",
       "      <td>DE</td>\n",
       "      <td>1.0</td>\n",
       "      <td>1.0</td>\n",
       "    </tr>\n",
       "    <tr>\n",
       "      <th>4</th>\n",
       "      <td>EP20010940394</td>\n",
       "      <td>1254</td>\n",
       "      <td>1280510</td>\n",
       "      <td>2800</td>\n",
       "      <td>Unilever PLC</td>\n",
       "      <td>Unilever House 100 Victoria Embankment London,...</td>\n",
       "      <td>UKI11</td>\n",
       "      <td>GB</td>\n",
       "      <td>1.0</td>\n",
       "      <td>0.5</td>\n",
       "    </tr>\n",
       "  </tbody>\n",
       "</table>\n",
       "</div>"
      ],
      "text/plain": [
       "         app_nbr  appln_id  pub_nbr  person_id  \\\n",
       "0  EP20000107845         2  1024191          7   \n",
       "1  EP20000107845         2  1024191          8   \n",
       "2  EP20080159140       589  2058311       1383   \n",
       "3  EP20080159141       590  2070539       1383   \n",
       "4  EP20010940394      1254  1280510       2800   \n",
       "\n",
       "                                    app_name  \\\n",
       "0                   Medical Research Council   \n",
       "1                          MEDIMMUNE LIMITED   \n",
       "2  Boehringer Ingelheim Pharma GmbH & Co. KG   \n",
       "3  Boehringer Ingelheim Pharma GmbH & Co. KG   \n",
       "4                               Unilever PLC   \n",
       "\n",
       "                                             address reg_code ctry_code  \\\n",
       "0                    20 Park Crescent,London W1B 1AL    UKI11        GB   \n",
       "1  Milstein Building Granta Park Cambridge,Cambri...    UKH12        GB   \n",
       "2        Binger Strasse 173,55216 Ingelheim am Rhein    DEB3J        DE   \n",
       "3        Binger Strasse 173,55216 Ingelheim am Rhein    DEB3J        DE   \n",
       "4  Unilever House 100 Victoria Embankment London,...    UKI11        GB   \n",
       "\n",
       "   reg_share  app_share  \n",
       "0        1.0        0.5  \n",
       "1        1.0        0.5  \n",
       "2        1.0        1.0  \n",
       "3        1.0        1.0  \n",
       "4        1.0        0.5  "
      ]
     },
     "execution_count": 18,
     "metadata": {},
     "output_type": "execute_result"
    }
   ],
   "source": [
    "filtered_app_epo.head()"
   ]
  },
  {
   "cell_type": "code",
   "execution_count": 21,
   "id": "599b7fc6-5f07-441e-acd7-d6282b53282b",
   "metadata": {},
   "outputs": [],
   "source": [
    "filtered_app_epo = filtered_app_epo[['app_nbr', 'appln_id', 'app_name','address','reg_code','ctry_code','reg_share','app_share']]"
   ]
  },
  {
   "cell_type": "code",
   "execution_count": 22,
   "id": "4b3a08d5-acf0-430b-85f5-f83c172dfb8f",
   "metadata": {},
   "outputs": [],
   "source": [
    "filtered_app_pct = filtered_app_pct[['app_nbr', 'appln_id', 'app_name','address','reg_code','ctry_code','reg_share','app_share']]"
   ]
  },
  {
   "cell_type": "code",
   "execution_count": 24,
   "id": "aabc641d-a01e-4bc9-a91f-37203b507422",
   "metadata": {},
   "outputs": [],
   "source": [
    "filtered_app = pd.concat([filtered_app_epo, filtered_app_pct])"
   ]
  },
  {
   "cell_type": "code",
   "execution_count": 25,
   "id": "1742beab-b54d-49a2-8765-4f6b0c03f85f",
   "metadata": {},
   "outputs": [
    {
     "data": {
      "text/html": [
       "<div>\n",
       "<style scoped>\n",
       "    .dataframe tbody tr th:only-of-type {\n",
       "        vertical-align: middle;\n",
       "    }\n",
       "\n",
       "    .dataframe tbody tr th {\n",
       "        vertical-align: top;\n",
       "    }\n",
       "\n",
       "    .dataframe thead th {\n",
       "        text-align: right;\n",
       "    }\n",
       "</style>\n",
       "<table border=\"1\" class=\"dataframe\">\n",
       "  <thead>\n",
       "    <tr style=\"text-align: right;\">\n",
       "      <th></th>\n",
       "      <th>app_nbr</th>\n",
       "      <th>appln_id</th>\n",
       "      <th>app_name</th>\n",
       "      <th>address</th>\n",
       "      <th>reg_code</th>\n",
       "      <th>ctry_code</th>\n",
       "      <th>reg_share</th>\n",
       "      <th>app_share</th>\n",
       "    </tr>\n",
       "  </thead>\n",
       "  <tbody>\n",
       "    <tr>\n",
       "      <th>0</th>\n",
       "      <td>EP20000107845</td>\n",
       "      <td>2.0</td>\n",
       "      <td>Medical Research Council</td>\n",
       "      <td>20 Park Crescent,London W1B 1AL</td>\n",
       "      <td>UKI11</td>\n",
       "      <td>GB</td>\n",
       "      <td>1.0</td>\n",
       "      <td>0.5</td>\n",
       "    </tr>\n",
       "    <tr>\n",
       "      <th>1</th>\n",
       "      <td>EP20000107845</td>\n",
       "      <td>2.0</td>\n",
       "      <td>MEDIMMUNE LIMITED</td>\n",
       "      <td>Milstein Building Granta Park Cambridge,Cambri...</td>\n",
       "      <td>UKH12</td>\n",
       "      <td>GB</td>\n",
       "      <td>1.0</td>\n",
       "      <td>0.5</td>\n",
       "    </tr>\n",
       "    <tr>\n",
       "      <th>2</th>\n",
       "      <td>EP20080159140</td>\n",
       "      <td>589.0</td>\n",
       "      <td>Boehringer Ingelheim Pharma GmbH &amp; Co. KG</td>\n",
       "      <td>Binger Strasse 173,55216 Ingelheim am Rhein</td>\n",
       "      <td>DEB3J</td>\n",
       "      <td>DE</td>\n",
       "      <td>1.0</td>\n",
       "      <td>1.0</td>\n",
       "    </tr>\n",
       "    <tr>\n",
       "      <th>3</th>\n",
       "      <td>EP20080159141</td>\n",
       "      <td>590.0</td>\n",
       "      <td>Boehringer Ingelheim Pharma GmbH &amp; Co. KG</td>\n",
       "      <td>Binger Strasse 173,55216 Ingelheim am Rhein</td>\n",
       "      <td>DEB3J</td>\n",
       "      <td>DE</td>\n",
       "      <td>1.0</td>\n",
       "      <td>1.0</td>\n",
       "    </tr>\n",
       "    <tr>\n",
       "      <th>4</th>\n",
       "      <td>EP20010940394</td>\n",
       "      <td>1254.0</td>\n",
       "      <td>Unilever PLC</td>\n",
       "      <td>Unilever House 100 Victoria Embankment London,...</td>\n",
       "      <td>UKI11</td>\n",
       "      <td>GB</td>\n",
       "      <td>1.0</td>\n",
       "      <td>0.5</td>\n",
       "    </tr>\n",
       "  </tbody>\n",
       "</table>\n",
       "</div>"
      ],
      "text/plain": [
       "         app_nbr  appln_id                                   app_name  \\\n",
       "0  EP20000107845       2.0                   Medical Research Council   \n",
       "1  EP20000107845       2.0                          MEDIMMUNE LIMITED   \n",
       "2  EP20080159140     589.0  Boehringer Ingelheim Pharma GmbH & Co. KG   \n",
       "3  EP20080159141     590.0  Boehringer Ingelheim Pharma GmbH & Co. KG   \n",
       "4  EP20010940394    1254.0                               Unilever PLC   \n",
       "\n",
       "                                             address reg_code ctry_code  \\\n",
       "0                    20 Park Crescent,London W1B 1AL    UKI11        GB   \n",
       "1  Milstein Building Granta Park Cambridge,Cambri...    UKH12        GB   \n",
       "2        Binger Strasse 173,55216 Ingelheim am Rhein    DEB3J        DE   \n",
       "3        Binger Strasse 173,55216 Ingelheim am Rhein    DEB3J        DE   \n",
       "4  Unilever House 100 Victoria Embankment London,...    UKI11        GB   \n",
       "\n",
       "   reg_share  app_share  \n",
       "0        1.0        0.5  \n",
       "1        1.0        0.5  \n",
       "2        1.0        1.0  \n",
       "3        1.0        1.0  \n",
       "4        1.0        0.5  "
      ]
     },
     "execution_count": 25,
     "metadata": {},
     "output_type": "execute_result"
    }
   ],
   "source": [
    "filtered_app.head()"
   ]
  },
  {
   "cell_type": "code",
   "execution_count": 28,
   "id": "1595b039-d363-4c53-8448-dbf30f7d1933",
   "metadata": {},
   "outputs": [],
   "source": [
    "filtered_app.to_csv('data/app_reg_pharma.csv', index = False)"
   ]
  },
  {
   "cell_type": "code",
   "execution_count": 29,
   "id": "70b9bc37-b26b-4114-a416-fa1d5f7ad1bd",
   "metadata": {},
   "outputs": [],
   "source": [
    "inv_not_in = inv[~inv['app_nbr'].isin(filtered_app['app_nbr'])]"
   ]
  },
  {
   "cell_type": "code",
   "execution_count": 32,
   "id": "198aba20-7dc8-40b8-8473-81e6bc256277",
   "metadata": {},
   "outputs": [
    {
     "data": {
      "text/plain": [
       "57"
      ]
     },
     "execution_count": 32,
     "metadata": {},
     "output_type": "execute_result"
    }
   ],
   "source": [
    "len(inv_not_in['app_nbr'].unique())"
   ]
  }
 ],
 "metadata": {
  "kernelspec": {
   "display_name": "Python 3 (ipykernel)",
   "language": "python",
   "name": "python3"
  },
  "language_info": {
   "codemirror_mode": {
    "name": "ipython",
    "version": 3
   },
   "file_extension": ".py",
   "mimetype": "text/x-python",
   "name": "python",
   "nbconvert_exporter": "python",
   "pygments_lexer": "ipython3",
   "version": "3.10.5"
  }
 },
 "nbformat": 4,
 "nbformat_minor": 5
}
