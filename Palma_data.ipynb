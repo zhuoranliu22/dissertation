{
 "cells": [
  {
   "cell_type": "code",
   "execution_count": 1,
   "id": "ffdc0de8-8b5c-4b0f-8c1b-a4999960801f",
   "metadata": {},
   "outputs": [
    {
     "name": "stderr",
     "output_type": "stream",
     "text": [
      "<jemalloc>: MADV_DONTNEED does not work (memset will be used instead)\n",
      "<jemalloc>: (This is the expected behaviour if you are running under QEMU)\n"
     ]
    }
   ],
   "source": [
    "import pandas as pd"
   ]
  },
  {
   "cell_type": "code",
   "execution_count": 2,
   "id": "34e6f53e-1e6c-4746-828d-c02a80ac10c3",
   "metadata": {},
   "outputs": [],
   "source": [
    "epo = pd.read_csv('Palma72H/EPO_citation_UK_withIPC_loc.csv')"
   ]
  },
  {
   "cell_type": "code",
   "execution_count": 5,
   "id": "707cf9a6-58ba-486e-9fd2-9eeac2336641",
   "metadata": {},
   "outputs": [],
   "source": [
    "epo_cited = pd.read_csv('Palma72H/Patents/UK_Patents_cited_wIPC.csv')"
   ]
  },
  {
   "cell_type": "code",
   "execution_count": 10,
   "id": "5432d572-7ca8-4db3-8d3e-4d595e21a30b",
   "metadata": {},
   "outputs": [],
   "source": [
    "cite_uk = pd.read_csv('Palma72H/Patents/UK_patent_citations.csv')"
   ]
  },
  {
   "cell_type": "code",
   "execution_count": 13,
   "id": "e06c5fbd-a0fc-4f9e-8846-68194fd6788d",
   "metadata": {},
   "outputs": [],
   "source": [
    "pct = pd.read_csv('Palma72H/Patents/PCT_citation_UK_withIPC_loc.csv')"
   ]
  },
  {
   "cell_type": "code",
   "execution_count": 6,
   "id": "7901219d-564e-452a-a0bb-643ae26dddc2",
   "metadata": {},
   "outputs": [
    {
     "data": {
      "text/html": [
       "<div>\n",
       "<style scoped>\n",
       "    .dataframe tbody tr th:only-of-type {\n",
       "        vertical-align: middle;\n",
       "    }\n",
       "\n",
       "    .dataframe tbody tr th {\n",
       "        vertical-align: top;\n",
       "    }\n",
       "\n",
       "    .dataframe thead th {\n",
       "        text-align: right;\n",
       "    }\n",
       "</style>\n",
       "<table border=\"1\" class=\"dataframe\">\n",
       "  <thead>\n",
       "    <tr style=\"text-align: right;\">\n",
       "      <th></th>\n",
       "      <th>app_nbr</th>\n",
       "      <th>appln_id</th>\n",
       "      <th>pub_nbr</th>\n",
       "      <th>person_id</th>\n",
       "      <th>inv_name</th>\n",
       "      <th>address</th>\n",
       "      <th>reg_code</th>\n",
       "      <th>ctry_code</th>\n",
       "      <th>reg_share</th>\n",
       "      <th>inv_share</th>\n",
       "      <th>prio_year</th>\n",
       "      <th>app_year</th>\n",
       "      <th>IPC</th>\n",
       "    </tr>\n",
       "  </thead>\n",
       "  <tbody>\n",
       "    <tr>\n",
       "      <th>0</th>\n",
       "      <td>EP20020258685</td>\n",
       "      <td>1303</td>\n",
       "      <td>1324097</td>\n",
       "      <td>2975</td>\n",
       "      <td>Maddison, John R.</td>\n",
       "      <td>10 Lonsdale Gardens,Tunbridge Wells, Kent TN1 1NU</td>\n",
       "      <td>UKJ42</td>\n",
       "      <td>GB</td>\n",
       "      <td>1.0</td>\n",
       "      <td>0.5</td>\n",
       "      <td>2001</td>\n",
       "      <td>2002</td>\n",
       "      <td>G02B021/00</td>\n",
       "    </tr>\n",
       "    <tr>\n",
       "      <th>1</th>\n",
       "      <td>EP20020258685</td>\n",
       "      <td>1303</td>\n",
       "      <td>1324097</td>\n",
       "      <td>2976</td>\n",
       "      <td>Clinch, Noah F.</td>\n",
       "      <td>10 Lonsdale Gardens,Tunbridge Wells, Kent TN1 1NU</td>\n",
       "      <td>UKJ42</td>\n",
       "      <td>GB</td>\n",
       "      <td>1.0</td>\n",
       "      <td>0.5</td>\n",
       "      <td>2001</td>\n",
       "      <td>2002</td>\n",
       "      <td>G02B021/00</td>\n",
       "    </tr>\n",
       "    <tr>\n",
       "      <th>2</th>\n",
       "      <td>EP20060250283</td>\n",
       "      <td>1972</td>\n",
       "      <td>1691541</td>\n",
       "      <td>49614001</td>\n",
       "      <td>Gouch, Martin Philip</td>\n",
       "      <td>16 Edenhall Close,Hemel Hempstead,Hertfordshir...</td>\n",
       "      <td>UKH23</td>\n",
       "      <td>GB</td>\n",
       "      <td>1.0</td>\n",
       "      <td>1.0</td>\n",
       "      <td>2005</td>\n",
       "      <td>2006</td>\n",
       "      <td>G02B007/38</td>\n",
       "    </tr>\n",
       "    <tr>\n",
       "      <th>3</th>\n",
       "      <td>EP20060251704</td>\n",
       "      <td>1977</td>\n",
       "      <td>1717134</td>\n",
       "      <td>5487</td>\n",
       "      <td>Hayes, Anthony</td>\n",
       "      <td>68 Cheltenham Crescent Runcorn,Cheshire WA7 4YT</td>\n",
       "      <td>UKD71</td>\n",
       "      <td>GB</td>\n",
       "      <td>1.0</td>\n",
       "      <td>1.0</td>\n",
       "      <td>2005</td>\n",
       "      <td>2006</td>\n",
       "      <td>B62D053/08</td>\n",
       "    </tr>\n",
       "    <tr>\n",
       "      <th>4</th>\n",
       "      <td>EP20060794909</td>\n",
       "      <td>2112</td>\n",
       "      <td>1952644</td>\n",
       "      <td>5984</td>\n",
       "      <td>JAMES, Jason, Lee</td>\n",
       "      <td>6 Cauldecott Close,Northampton NN4 9QN</td>\n",
       "      <td>UKF24</td>\n",
       "      <td>GB</td>\n",
       "      <td>1.0</td>\n",
       "      <td>1.0</td>\n",
       "      <td>2005</td>\n",
       "      <td>2006</td>\n",
       "      <td>H04Q001/14</td>\n",
       "    </tr>\n",
       "  </tbody>\n",
       "</table>\n",
       "</div>"
      ],
      "text/plain": [
       "         app_nbr  appln_id  pub_nbr  person_id              inv_name  \\\n",
       "0  EP20020258685      1303  1324097       2975     Maddison, John R.   \n",
       "1  EP20020258685      1303  1324097       2976       Clinch, Noah F.   \n",
       "2  EP20060250283      1972  1691541   49614001  Gouch, Martin Philip   \n",
       "3  EP20060251704      1977  1717134       5487        Hayes, Anthony   \n",
       "4  EP20060794909      2112  1952644       5984     JAMES, Jason, Lee   \n",
       "\n",
       "                                             address reg_code ctry_code  \\\n",
       "0  10 Lonsdale Gardens,Tunbridge Wells, Kent TN1 1NU    UKJ42        GB   \n",
       "1  10 Lonsdale Gardens,Tunbridge Wells, Kent TN1 1NU    UKJ42        GB   \n",
       "2  16 Edenhall Close,Hemel Hempstead,Hertfordshir...    UKH23        GB   \n",
       "3    68 Cheltenham Crescent Runcorn,Cheshire WA7 4YT    UKD71        GB   \n",
       "4             6 Cauldecott Close,Northampton NN4 9QN    UKF24        GB   \n",
       "\n",
       "   reg_share  inv_share  prio_year  app_year         IPC  \n",
       "0        1.0        0.5       2001      2002  G02B021/00  \n",
       "1        1.0        0.5       2001      2002  G02B021/00  \n",
       "2        1.0        1.0       2005      2006  G02B007/38  \n",
       "3        1.0        1.0       2005      2006  B62D053/08  \n",
       "4        1.0        1.0       2005      2006  H04Q001/14  "
      ]
     },
     "execution_count": 6,
     "metadata": {},
     "output_type": "execute_result"
    }
   ],
   "source": [
    "epo_cited.head()"
   ]
  },
  {
   "cell_type": "code",
   "execution_count": 3,
   "id": "5f443fc8-a4d2-424f-9b38-da3782c5cd38",
   "metadata": {},
   "outputs": [
    {
     "data": {
      "text/html": [
       "<div>\n",
       "<style scoped>\n",
       "    .dataframe tbody tr th:only-of-type {\n",
       "        vertical-align: middle;\n",
       "    }\n",
       "\n",
       "    .dataframe tbody tr th {\n",
       "        vertical-align: top;\n",
       "    }\n",
       "\n",
       "    .dataframe thead th {\n",
       "        text-align: right;\n",
       "    }\n",
       "</style>\n",
       "<table border=\"1\" class=\"dataframe\">\n",
       "  <thead>\n",
       "    <tr style=\"text-align: right;\">\n",
       "      <th></th>\n",
       "      <th>Citing_app_nbr</th>\n",
       "      <th>Citing_appln_id</th>\n",
       "      <th>Cited_App_nbr</th>\n",
       "      <th>Cited_Appln_id</th>\n",
       "      <th>Cit_Total</th>\n",
       "      <th>Citn_origin</th>\n",
       "      <th>Citn_category</th>\n",
       "      <th>Citn_lag_year</th>\n",
       "      <th>Citn_lag_month</th>\n",
       "      <th>PCT_Route</th>\n",
       "      <th>prio_year</th>\n",
       "      <th>app_year</th>\n",
       "      <th>IPC</th>\n",
       "      <th>app_nbr</th>\n",
       "      <th>person_id</th>\n",
       "      <th>inv_name</th>\n",
       "      <th>address</th>\n",
       "      <th>reg_code</th>\n",
       "      <th>ctry_code</th>\n",
       "      <th>inv_share</th>\n",
       "    </tr>\n",
       "  </thead>\n",
       "  <tbody>\n",
       "    <tr>\n",
       "      <th>0</th>\n",
       "      <td>EP19780101388</td>\n",
       "      <td>16428374</td>\n",
       "      <td>EP19780300148</td>\n",
       "      <td>16429355.0</td>\n",
       "      <td>3</td>\n",
       "      <td>SEA</td>\n",
       "      <td>E</td>\n",
       "      <td>0.0</td>\n",
       "      <td>4.0</td>\n",
       "      <td>0</td>\n",
       "      <td>1977</td>\n",
       "      <td>1978</td>\n",
       "      <td>A61K031/43</td>\n",
       "      <td>EP19780101388</td>\n",
       "      <td>2216665</td>\n",
       "      <td>Christensen, Burton Grant</td>\n",
       "      <td>350 E. Lafayette Street Apt. 1A Bldg. 10,Metuc...</td>\n",
       "      <td>US34023</td>\n",
       "      <td>US</td>\n",
       "      <td>0.500000</td>\n",
       "    </tr>\n",
       "    <tr>\n",
       "      <th>1</th>\n",
       "      <td>EP19780101388</td>\n",
       "      <td>16428374</td>\n",
       "      <td>EP19780300148</td>\n",
       "      <td>16429355.0</td>\n",
       "      <td>3</td>\n",
       "      <td>SEA</td>\n",
       "      <td>E</td>\n",
       "      <td>0.0</td>\n",
       "      <td>4.0</td>\n",
       "      <td>0</td>\n",
       "      <td>1977</td>\n",
       "      <td>1978</td>\n",
       "      <td>A61K031/43</td>\n",
       "      <td>EP19780101388</td>\n",
       "      <td>2216666</td>\n",
       "      <td>Di Ninno, Frank Paul</td>\n",
       "      <td>46 Bentley Avenue,Old Bridge N.J. 08857</td>\n",
       "      <td>US34023</td>\n",
       "      <td>US</td>\n",
       "      <td>0.500000</td>\n",
       "    </tr>\n",
       "    <tr>\n",
       "      <th>2</th>\n",
       "      <td>EP19790300234</td>\n",
       "      <td>16436949</td>\n",
       "      <td>EP19780300203</td>\n",
       "      <td>16429410.0</td>\n",
       "      <td>5</td>\n",
       "      <td>SEA</td>\n",
       "      <td>NaN</td>\n",
       "      <td>0.0</td>\n",
       "      <td>5.0</td>\n",
       "      <td>0</td>\n",
       "      <td>1978</td>\n",
       "      <td>1979</td>\n",
       "      <td>A01N043/40</td>\n",
       "      <td>EP19790300234</td>\n",
       "      <td>2219864</td>\n",
       "      <td>Cartwright, David</td>\n",
       "      <td>1 Stonehaven Drive Woodley,Reading Berkshire</td>\n",
       "      <td>UKJ11</td>\n",
       "      <td>GB</td>\n",
       "      <td>1.000000</td>\n",
       "    </tr>\n",
       "    <tr>\n",
       "      <th>3</th>\n",
       "      <td>EP19790300237</td>\n",
       "      <td>16436952</td>\n",
       "      <td>EP19780300148</td>\n",
       "      <td>16429355.0</td>\n",
       "      <td>2</td>\n",
       "      <td>SEA</td>\n",
       "      <td>NaN</td>\n",
       "      <td>0.0</td>\n",
       "      <td>7.0</td>\n",
       "      <td>0</td>\n",
       "      <td>1978</td>\n",
       "      <td>1979</td>\n",
       "      <td>A61K031/43</td>\n",
       "      <td>EP19790300237</td>\n",
       "      <td>2218537</td>\n",
       "      <td>Watson, Nigel Stephen</td>\n",
       "      <td>5 Ruislip Close,Greenford Middlesex</td>\n",
       "      <td>UKI23</td>\n",
       "      <td>GB</td>\n",
       "      <td>0.333333</td>\n",
       "    </tr>\n",
       "    <tr>\n",
       "      <th>4</th>\n",
       "      <td>EP19790300237</td>\n",
       "      <td>16436952</td>\n",
       "      <td>EP19780300148</td>\n",
       "      <td>16429355.0</td>\n",
       "      <td>2</td>\n",
       "      <td>SEA</td>\n",
       "      <td>NaN</td>\n",
       "      <td>0.0</td>\n",
       "      <td>7.0</td>\n",
       "      <td>0</td>\n",
       "      <td>1978</td>\n",
       "      <td>1979</td>\n",
       "      <td>A61K031/43</td>\n",
       "      <td>EP19790300237</td>\n",
       "      <td>2232864</td>\n",
       "      <td>Cherry, Peter Clive</td>\n",
       "      <td>12 Thistledene Avenue,South Harrow Middlesex</td>\n",
       "      <td>UKI23</td>\n",
       "      <td>GB</td>\n",
       "      <td>0.333333</td>\n",
       "    </tr>\n",
       "  </tbody>\n",
       "</table>\n",
       "</div>"
      ],
      "text/plain": [
       "  Citing_app_nbr  Citing_appln_id  Cited_App_nbr  Cited_Appln_id  Cit_Total  \\\n",
       "0  EP19780101388         16428374  EP19780300148      16429355.0          3   \n",
       "1  EP19780101388         16428374  EP19780300148      16429355.0          3   \n",
       "2  EP19790300234         16436949  EP19780300203      16429410.0          5   \n",
       "3  EP19790300237         16436952  EP19780300148      16429355.0          2   \n",
       "4  EP19790300237         16436952  EP19780300148      16429355.0          2   \n",
       "\n",
       "  Citn_origin Citn_category  Citn_lag_year  Citn_lag_month  PCT_Route  \\\n",
       "0         SEA             E            0.0             4.0          0   \n",
       "1         SEA             E            0.0             4.0          0   \n",
       "2         SEA           NaN            0.0             5.0          0   \n",
       "3         SEA           NaN            0.0             7.0          0   \n",
       "4         SEA           NaN            0.0             7.0          0   \n",
       "\n",
       "   prio_year  app_year         IPC        app_nbr  person_id  \\\n",
       "0       1977      1978  A61K031/43  EP19780101388    2216665   \n",
       "1       1977      1978  A61K031/43  EP19780101388    2216666   \n",
       "2       1978      1979  A01N043/40  EP19790300234    2219864   \n",
       "3       1978      1979  A61K031/43  EP19790300237    2218537   \n",
       "4       1978      1979  A61K031/43  EP19790300237    2232864   \n",
       "\n",
       "                    inv_name  \\\n",
       "0  Christensen, Burton Grant   \n",
       "1       Di Ninno, Frank Paul   \n",
       "2          Cartwright, David   \n",
       "3      Watson, Nigel Stephen   \n",
       "4        Cherry, Peter Clive   \n",
       "\n",
       "                                             address reg_code ctry_code  \\\n",
       "0  350 E. Lafayette Street Apt. 1A Bldg. 10,Metuc...  US34023        US   \n",
       "1            46 Bentley Avenue,Old Bridge N.J. 08857  US34023        US   \n",
       "2       1 Stonehaven Drive Woodley,Reading Berkshire    UKJ11        GB   \n",
       "3                5 Ruislip Close,Greenford Middlesex    UKI23        GB   \n",
       "4       12 Thistledene Avenue,South Harrow Middlesex    UKI23        GB   \n",
       "\n",
       "   inv_share  \n",
       "0   0.500000  \n",
       "1   0.500000  \n",
       "2   1.000000  \n",
       "3   0.333333  \n",
       "4   0.333333  "
      ]
     },
     "execution_count": 3,
     "metadata": {},
     "output_type": "execute_result"
    }
   ],
   "source": [
    "epo.head()"
   ]
  },
  {
   "cell_type": "code",
   "execution_count": 11,
   "id": "1ee291d4-d8ca-4c5a-b6ac-c4bb85ec4113",
   "metadata": {},
   "outputs": [
    {
     "data": {
      "text/html": [
       "<div>\n",
       "<style scoped>\n",
       "    .dataframe tbody tr th:only-of-type {\n",
       "        vertical-align: middle;\n",
       "    }\n",
       "\n",
       "    .dataframe tbody tr th {\n",
       "        vertical-align: top;\n",
       "    }\n",
       "\n",
       "    .dataframe thead th {\n",
       "        text-align: right;\n",
       "    }\n",
       "</style>\n",
       "<table border=\"1\" class=\"dataframe\">\n",
       "  <thead>\n",
       "    <tr style=\"text-align: right;\">\n",
       "      <th></th>\n",
       "      <th>source</th>\n",
       "      <th>target</th>\n",
       "      <th>time</th>\n",
       "    </tr>\n",
       "  </thead>\n",
       "  <tbody>\n",
       "    <tr>\n",
       "      <th>0</th>\n",
       "      <td>EP19800103907</td>\n",
       "      <td>EP19790300134</td>\n",
       "      <td>1978</td>\n",
       "    </tr>\n",
       "    <tr>\n",
       "      <th>1</th>\n",
       "      <td>EP19800201077</td>\n",
       "      <td>EP19790300134</td>\n",
       "      <td>1978</td>\n",
       "    </tr>\n",
       "    <tr>\n",
       "      <th>2</th>\n",
       "      <td>EP19800201077</td>\n",
       "      <td>EP19790300251</td>\n",
       "      <td>1978</td>\n",
       "    </tr>\n",
       "    <tr>\n",
       "      <th>3</th>\n",
       "      <td>EP19790301557</td>\n",
       "      <td>EP19780300473</td>\n",
       "      <td>1979</td>\n",
       "    </tr>\n",
       "    <tr>\n",
       "      <th>4</th>\n",
       "      <td>EP19790300251</td>\n",
       "      <td>EP19780300203</td>\n",
       "      <td>1979</td>\n",
       "    </tr>\n",
       "  </tbody>\n",
       "</table>\n",
       "</div>"
      ],
      "text/plain": [
       "          source         target  time\n",
       "0  EP19800103907  EP19790300134  1978\n",
       "1  EP19800201077  EP19790300134  1978\n",
       "2  EP19800201077  EP19790300251  1978\n",
       "3  EP19790301557  EP19780300473  1979\n",
       "4  EP19790300251  EP19780300203  1979"
      ]
     },
     "execution_count": 11,
     "metadata": {},
     "output_type": "execute_result"
    }
   ],
   "source": [
    "cite_uk.head()"
   ]
  },
  {
   "cell_type": "code",
   "execution_count": 66,
   "id": "f400fe8a-8399-4f2d-af42-f51bbbe1fb4b",
   "metadata": {},
   "outputs": [
    {
     "data": {
      "text/plain": [
       "19767"
      ]
     },
     "execution_count": 66,
     "metadata": {},
     "output_type": "execute_result"
    }
   ],
   "source": [
    "len(cite_uk)"
   ]
  },
  {
   "cell_type": "code",
   "execution_count": 14,
   "id": "09b98816-dfe7-4200-aef7-bd054723b586",
   "metadata": {},
   "outputs": [
    {
     "data": {
      "text/html": [
       "<div>\n",
       "<style scoped>\n",
       "    .dataframe tbody tr th:only-of-type {\n",
       "        vertical-align: middle;\n",
       "    }\n",
       "\n",
       "    .dataframe tbody tr th {\n",
       "        vertical-align: top;\n",
       "    }\n",
       "\n",
       "    .dataframe thead th {\n",
       "        text-align: right;\n",
       "    }\n",
       "</style>\n",
       "<table border=\"1\" class=\"dataframe\">\n",
       "  <thead>\n",
       "    <tr style=\"text-align: right;\">\n",
       "      <th></th>\n",
       "      <th>Unnamed: 0</th>\n",
       "      <th>Citing_app_nbr</th>\n",
       "      <th>Citing_appln_id</th>\n",
       "      <th>Cited_pub_nbr</th>\n",
       "      <th>Cited_Appln_id</th>\n",
       "      <th>Citn_origin</th>\n",
       "      <th>Citn_lag_year</th>\n",
       "      <th>Citn_lag_month</th>\n",
       "      <th>ISA</th>\n",
       "      <th>Citing_app_nbr_EPO</th>\n",
       "      <th>...</th>\n",
       "      <th>prio_year</th>\n",
       "      <th>app_year</th>\n",
       "      <th>IPC</th>\n",
       "      <th>pct_nbr</th>\n",
       "      <th>appln_id</th>\n",
       "      <th>inv_name</th>\n",
       "      <th>address</th>\n",
       "      <th>reg_code</th>\n",
       "      <th>ctry_code</th>\n",
       "      <th>inv_share</th>\n",
       "    </tr>\n",
       "  </thead>\n",
       "  <tbody>\n",
       "    <tr>\n",
       "      <th>0</th>\n",
       "      <td>0</td>\n",
       "      <td>WO1979000092</td>\n",
       "      <td>15648948</td>\n",
       "      <td>WO1979000985</td>\n",
       "      <td>11473341.0</td>\n",
       "      <td>ISR</td>\n",
       "      <td>1.0</td>\n",
       "      <td>8.0</td>\n",
       "      <td>EP</td>\n",
       "      <td>EP19780900082</td>\n",
       "      <td>...</td>\n",
       "      <td>1977</td>\n",
       "      <td>1978</td>\n",
       "      <td>C12L011/00</td>\n",
       "      <td>WO1979000092</td>\n",
       "      <td>15648851.0</td>\n",
       "      <td>MÖCKESCH, Erich</td>\n",
       "      <td>D-7100 Heilbronn</td>\n",
       "      <td>DE117</td>\n",
       "      <td>DE</td>\n",
       "      <td>1.000000</td>\n",
       "    </tr>\n",
       "    <tr>\n",
       "      <th>1</th>\n",
       "      <td>1</td>\n",
       "      <td>WO1983000236</td>\n",
       "      <td>15649723</td>\n",
       "      <td>WO1979000985</td>\n",
       "      <td>11473341.0</td>\n",
       "      <td>ISR</td>\n",
       "      <td>5.0</td>\n",
       "      <td>61.0</td>\n",
       "      <td>EP</td>\n",
       "      <td>EP19810902481</td>\n",
       "      <td>...</td>\n",
       "      <td>1981</td>\n",
       "      <td>1981</td>\n",
       "      <td>G04B037/05</td>\n",
       "      <td>WO1983000236</td>\n",
       "      <td>6510572.0</td>\n",
       "      <td>FINGER, Hansjörg</td>\n",
       "      <td>CH-2543 Lengnau</td>\n",
       "      <td>CH021</td>\n",
       "      <td>CH</td>\n",
       "      <td>1.000000</td>\n",
       "    </tr>\n",
       "    <tr>\n",
       "      <th>2</th>\n",
       "      <td>2</td>\n",
       "      <td>WO1993005833</td>\n",
       "      <td>47214466</td>\n",
       "      <td>WO1979000482</td>\n",
       "      <td>46912661.0</td>\n",
       "      <td>ISR</td>\n",
       "      <td>15.0</td>\n",
       "      <td>176.0</td>\n",
       "      <td>EP</td>\n",
       "      <td>EP19920920347</td>\n",
       "      <td>...</td>\n",
       "      <td>1991</td>\n",
       "      <td>1992</td>\n",
       "      <td>A61M005/32</td>\n",
       "      <td>WO1993005833</td>\n",
       "      <td>17593225.0</td>\n",
       "      <td>GALIANA SABATER, Amando</td>\n",
       "      <td>E-46001 Valencia</td>\n",
       "      <td>ES523</td>\n",
       "      <td>ES</td>\n",
       "      <td>1.000000</td>\n",
       "    </tr>\n",
       "    <tr>\n",
       "      <th>3</th>\n",
       "      <td>3</td>\n",
       "      <td>WO1994011576</td>\n",
       "      <td>47250451</td>\n",
       "      <td>WO1979000482</td>\n",
       "      <td>46912661.0</td>\n",
       "      <td>ISR</td>\n",
       "      <td>16.0</td>\n",
       "      <td>189.0</td>\n",
       "      <td>EP</td>\n",
       "      <td>EP19940900357</td>\n",
       "      <td>...</td>\n",
       "      <td>1992</td>\n",
       "      <td>1993</td>\n",
       "      <td>D21H017/45</td>\n",
       "      <td>WO1994011576</td>\n",
       "      <td>47219172.0</td>\n",
       "      <td>LEE, Kang, In</td>\n",
       "      <td>Longmeadow, MA 01106</td>\n",
       "      <td>US25013</td>\n",
       "      <td>US</td>\n",
       "      <td>1.000000</td>\n",
       "    </tr>\n",
       "    <tr>\n",
       "      <th>4</th>\n",
       "      <td>4</td>\n",
       "      <td>WO1997005434</td>\n",
       "      <td>47345574</td>\n",
       "      <td>WO1979000483</td>\n",
       "      <td>22670158.0</td>\n",
       "      <td>ISR</td>\n",
       "      <td>18.0</td>\n",
       "      <td>219.0</td>\n",
       "      <td>EP</td>\n",
       "      <td>EP19950927905</td>\n",
       "      <td>...</td>\n",
       "      <td>1995</td>\n",
       "      <td>1995</td>\n",
       "      <td>F25B041/00</td>\n",
       "      <td>WO1997005434</td>\n",
       "      <td>23963862.0</td>\n",
       "      <td>Katai, Lajos</td>\n",
       "      <td>1161 Budapest</td>\n",
       "      <td>HU101</td>\n",
       "      <td>HU</td>\n",
       "      <td>0.333333</td>\n",
       "    </tr>\n",
       "  </tbody>\n",
       "</table>\n",
       "<p>5 rows × 21 columns</p>\n",
       "</div>"
      ],
      "text/plain": [
       "   Unnamed: 0 Citing_app_nbr  Citing_appln_id Cited_pub_nbr  Cited_Appln_id  \\\n",
       "0           0   WO1979000092         15648948  WO1979000985      11473341.0   \n",
       "1           1   WO1983000236         15649723  WO1979000985      11473341.0   \n",
       "2           2   WO1993005833         47214466  WO1979000482      46912661.0   \n",
       "3           3   WO1994011576         47250451  WO1979000482      46912661.0   \n",
       "4           4   WO1997005434         47345574  WO1979000483      22670158.0   \n",
       "\n",
       "  Citn_origin  Citn_lag_year  Citn_lag_month ISA Citing_app_nbr_EPO  ...  \\\n",
       "0         ISR            1.0             8.0  EP      EP19780900082  ...   \n",
       "1         ISR            5.0            61.0  EP      EP19810902481  ...   \n",
       "2         ISR           15.0           176.0  EP      EP19920920347  ...   \n",
       "3         ISR           16.0           189.0  EP      EP19940900357  ...   \n",
       "4         ISR           18.0           219.0  EP      EP19950927905  ...   \n",
       "\n",
       "  prio_year  app_year         IPC       pct_nbr    appln_id  \\\n",
       "0      1977      1978  C12L011/00  WO1979000092  15648851.0   \n",
       "1      1981      1981  G04B037/05  WO1983000236   6510572.0   \n",
       "2      1991      1992  A61M005/32  WO1993005833  17593225.0   \n",
       "3      1992      1993  D21H017/45  WO1994011576  47219172.0   \n",
       "4      1995      1995  F25B041/00  WO1997005434  23963862.0   \n",
       "\n",
       "                  inv_name               address reg_code ctry_code inv_share  \n",
       "0          MÖCKESCH, Erich      D-7100 Heilbronn    DE117        DE  1.000000  \n",
       "1         FINGER, Hansjörg       CH-2543 Lengnau    CH021        CH  1.000000  \n",
       "2  GALIANA SABATER, Amando      E-46001 Valencia    ES523        ES  1.000000  \n",
       "3            LEE, Kang, In  Longmeadow, MA 01106  US25013        US  1.000000  \n",
       "4             Katai, Lajos         1161 Budapest    HU101        HU  0.333333  \n",
       "\n",
       "[5 rows x 21 columns]"
      ]
     },
     "execution_count": 14,
     "metadata": {},
     "output_type": "execute_result"
    }
   ],
   "source": [
    "pct.head()"
   ]
  },
  {
   "cell_type": "code",
   "execution_count": 7,
   "id": "cb8bd5f0-4591-47a0-aa6e-a6f0b170167b",
   "metadata": {},
   "outputs": [],
   "source": [
    "epo = epo[epo['ctry_code'] == 'GB']"
   ]
  },
  {
   "cell_type": "code",
   "execution_count": 21,
   "id": "ff8f3983-238d-4a99-912b-3298ff5a1341",
   "metadata": {},
   "outputs": [
    {
     "data": {
      "text/plain": [
       "5737"
      ]
     },
     "execution_count": 21,
     "metadata": {},
     "output_type": "execute_result"
    }
   ],
   "source": [
    "epo_pharma =epo[epo['IPC'].str.contains('A61K|A61P|C07D|C07K|C12N|C12P|C12Q', na=False)]\n",
    "len(epo_pharma)"
   ]
  },
  {
   "cell_type": "code",
   "execution_count": 29,
   "id": "0c95f4e7-ff59-452c-acd4-e1e85203f95b",
   "metadata": {},
   "outputs": [
    {
     "data": {
      "text/html": [
       "<div>\n",
       "<style scoped>\n",
       "    .dataframe tbody tr th:only-of-type {\n",
       "        vertical-align: middle;\n",
       "    }\n",
       "\n",
       "    .dataframe tbody tr th {\n",
       "        vertical-align: top;\n",
       "    }\n",
       "\n",
       "    .dataframe thead th {\n",
       "        text-align: right;\n",
       "    }\n",
       "</style>\n",
       "<table border=\"1\" class=\"dataframe\">\n",
       "  <thead>\n",
       "    <tr style=\"text-align: right;\">\n",
       "      <th></th>\n",
       "      <th>Citing_app_nbr</th>\n",
       "      <th>Cited_App_nbr</th>\n",
       "      <th>IPC</th>\n",
       "      <th>reg_code</th>\n",
       "      <th>prio_year</th>\n",
       "    </tr>\n",
       "  </thead>\n",
       "  <tbody>\n",
       "    <tr>\n",
       "      <th>3</th>\n",
       "      <td>EP19790300237</td>\n",
       "      <td>EP19780300148</td>\n",
       "      <td>A61K031/43</td>\n",
       "      <td>UKI23</td>\n",
       "      <td>1978</td>\n",
       "    </tr>\n",
       "    <tr>\n",
       "      <th>4</th>\n",
       "      <td>EP19790300237</td>\n",
       "      <td>EP19780300148</td>\n",
       "      <td>A61K031/43</td>\n",
       "      <td>UKI23</td>\n",
       "      <td>1978</td>\n",
       "    </tr>\n",
       "    <tr>\n",
       "      <th>5</th>\n",
       "      <td>EP19790300237</td>\n",
       "      <td>EP19780300148</td>\n",
       "      <td>A61K031/43</td>\n",
       "      <td>UKI23</td>\n",
       "      <td>1978</td>\n",
       "    </tr>\n",
       "    <tr>\n",
       "      <th>24</th>\n",
       "      <td>EP19790301143</td>\n",
       "      <td>EP19780100823</td>\n",
       "      <td>A61K031/415</td>\n",
       "      <td>UKH23</td>\n",
       "      <td>1978</td>\n",
       "    </tr>\n",
       "    <tr>\n",
       "      <th>25</th>\n",
       "      <td>EP19790301143</td>\n",
       "      <td>EP19780100823</td>\n",
       "      <td>A61K031/415</td>\n",
       "      <td>UKH23</td>\n",
       "      <td>1978</td>\n",
       "    </tr>\n",
       "  </tbody>\n",
       "</table>\n",
       "</div>"
      ],
      "text/plain": [
       "   Citing_app_nbr  Cited_App_nbr          IPC reg_code  prio_year\n",
       "3   EP19790300237  EP19780300148   A61K031/43    UKI23       1978\n",
       "4   EP19790300237  EP19780300148   A61K031/43    UKI23       1978\n",
       "5   EP19790300237  EP19780300148   A61K031/43    UKI23       1978\n",
       "24  EP19790301143  EP19780100823  A61K031/415    UKH23       1978\n",
       "25  EP19790301143  EP19780100823  A61K031/415    UKH23       1978"
      ]
     },
     "execution_count": 29,
     "metadata": {},
     "output_type": "execute_result"
    }
   ],
   "source": [
    "epo_pharma_new = epo_pharma[['Citing_app_nbr','Cited_App_nbr','IPC','reg_code','prio_year']]\n",
    "epo_pharma_new.head()"
   ]
  },
  {
   "cell_type": "code",
   "execution_count": 18,
   "id": "db91972b-cb0f-491e-9ec0-a095a7c6d3eb",
   "metadata": {},
   "outputs": [],
   "source": [
    "pct_new = pct.drop(['Citn_origin','Citn_lag_year','Citn_lag_month','ISA'], axis=1)\n",
    "pct_new = pct_new[pct_new['ctry_code'] == 'GB']"
   ]
  },
  {
   "cell_type": "code",
   "execution_count": 22,
   "id": "881fed24-75b6-444f-a6cd-a0aa4e70327c",
   "metadata": {},
   "outputs": [
    {
     "data": {
      "text/plain": [
       "1932"
      ]
     },
     "execution_count": 22,
     "metadata": {},
     "output_type": "execute_result"
    }
   ],
   "source": [
    "pct_pharma =pct_new[pct_new['IPC'].str.contains('A61K|A61P|C07D|C07K|C12N|C12P|C12Q', na=False)]\n",
    "len(pct_pharma)"
   ]
  },
  {
   "cell_type": "code",
   "execution_count": 23,
   "id": "c0ed9ae0-f212-4d09-9ae2-896829606838",
   "metadata": {},
   "outputs": [
    {
     "data": {
      "text/html": [
       "<div>\n",
       "<style scoped>\n",
       "    .dataframe tbody tr th:only-of-type {\n",
       "        vertical-align: middle;\n",
       "    }\n",
       "\n",
       "    .dataframe tbody tr th {\n",
       "        vertical-align: top;\n",
       "    }\n",
       "\n",
       "    .dataframe thead th {\n",
       "        text-align: right;\n",
       "    }\n",
       "</style>\n",
       "<table border=\"1\" class=\"dataframe\">\n",
       "  <thead>\n",
       "    <tr style=\"text-align: right;\">\n",
       "      <th></th>\n",
       "      <th>Unnamed: 0</th>\n",
       "      <th>Citing_app_nbr</th>\n",
       "      <th>Citing_appln_id</th>\n",
       "      <th>Cited_pub_nbr</th>\n",
       "      <th>Cited_Appln_id</th>\n",
       "      <th>Citing_app_nbr_EPO</th>\n",
       "      <th>Cited_App_nbr_EPO</th>\n",
       "      <th>prio_year</th>\n",
       "      <th>app_year</th>\n",
       "      <th>IPC</th>\n",
       "      <th>pct_nbr</th>\n",
       "      <th>appln_id</th>\n",
       "      <th>inv_name</th>\n",
       "      <th>address</th>\n",
       "      <th>reg_code</th>\n",
       "      <th>ctry_code</th>\n",
       "      <th>inv_share</th>\n",
       "    </tr>\n",
       "  </thead>\n",
       "  <tbody>\n",
       "    <tr>\n",
       "      <th>149</th>\n",
       "      <td>149</td>\n",
       "      <td>WO1992000061</td>\n",
       "      <td>29850714</td>\n",
       "      <td>WO1983003086</td>\n",
       "      <td>11518529.0</td>\n",
       "      <td>EP19910912173</td>\n",
       "      <td>EP19810901693</td>\n",
       "      <td>1990</td>\n",
       "      <td>1991</td>\n",
       "      <td>A61K009/12</td>\n",
       "      <td>WO1992000061</td>\n",
       "      <td>23031942.0</td>\n",
       "      <td>SOMANI, Asit</td>\n",
       "      <td>Loughborough, Leicestershire LE11 1JR</td>\n",
       "      <td>UKF22</td>\n",
       "      <td>GB</td>\n",
       "      <td>0.5</td>\n",
       "    </tr>\n",
       "    <tr>\n",
       "      <th>150</th>\n",
       "      <td>150</td>\n",
       "      <td>WO1992000061</td>\n",
       "      <td>29850714</td>\n",
       "      <td>WO1983003086</td>\n",
       "      <td>11518529.0</td>\n",
       "      <td>EP19910912173</td>\n",
       "      <td>EP19810901693</td>\n",
       "      <td>1990</td>\n",
       "      <td>1991</td>\n",
       "      <td>A61K009/12</td>\n",
       "      <td>WO1992000061</td>\n",
       "      <td>23031942.0</td>\n",
       "      <td>BOOLES, Clive</td>\n",
       "      <td>Shepshed, Leicestershire LE12 9HJ</td>\n",
       "      <td>UKF22</td>\n",
       "      <td>GB</td>\n",
       "      <td>0.5</td>\n",
       "    </tr>\n",
       "    <tr>\n",
       "      <th>151</th>\n",
       "      <td>151</td>\n",
       "      <td>WO1992000061</td>\n",
       "      <td>15460491</td>\n",
       "      <td>WO1990003787</td>\n",
       "      <td>15459638.0</td>\n",
       "      <td>EP19910912173</td>\n",
       "      <td>EP19880905970</td>\n",
       "      <td>1990</td>\n",
       "      <td>1991</td>\n",
       "      <td>A61K009/12</td>\n",
       "      <td>WO1992000061</td>\n",
       "      <td>23031942.0</td>\n",
       "      <td>SOMANI, Asit</td>\n",
       "      <td>Loughborough, Leicestershire LE11 1JR</td>\n",
       "      <td>UKF22</td>\n",
       "      <td>GB</td>\n",
       "      <td>0.5</td>\n",
       "    </tr>\n",
       "    <tr>\n",
       "      <th>152</th>\n",
       "      <td>152</td>\n",
       "      <td>WO1992000061</td>\n",
       "      <td>15460491</td>\n",
       "      <td>WO1990003787</td>\n",
       "      <td>15459638.0</td>\n",
       "      <td>EP19910912173</td>\n",
       "      <td>EP19880905970</td>\n",
       "      <td>1990</td>\n",
       "      <td>1991</td>\n",
       "      <td>A61K009/12</td>\n",
       "      <td>WO1992000061</td>\n",
       "      <td>23031942.0</td>\n",
       "      <td>BOOLES, Clive</td>\n",
       "      <td>Shepshed, Leicestershire LE12 9HJ</td>\n",
       "      <td>UKF22</td>\n",
       "      <td>GB</td>\n",
       "      <td>0.5</td>\n",
       "    </tr>\n",
       "    <tr>\n",
       "      <th>243</th>\n",
       "      <td>243</td>\n",
       "      <td>WO1998000536</td>\n",
       "      <td>20573216</td>\n",
       "      <td>WO1982004405</td>\n",
       "      <td>22752620.0</td>\n",
       "      <td>EP19970929378</td>\n",
       "      <td>EP19810901804</td>\n",
       "      <td>1996</td>\n",
       "      <td>1997</td>\n",
       "      <td>C07K016/18</td>\n",
       "      <td>WO1998000536</td>\n",
       "      <td>23212025.0</td>\n",
       "      <td>TAUSSIG, Michael, John</td>\n",
       "      <td>Newmarket, Cambs CB8 9XG</td>\n",
       "      <td>UKH12</td>\n",
       "      <td>GB</td>\n",
       "      <td>0.5</td>\n",
       "    </tr>\n",
       "  </tbody>\n",
       "</table>\n",
       "</div>"
      ],
      "text/plain": [
       "     Unnamed: 0 Citing_app_nbr  Citing_appln_id Cited_pub_nbr  Cited_Appln_id  \\\n",
       "149         149   WO1992000061         29850714  WO1983003086      11518529.0   \n",
       "150         150   WO1992000061         29850714  WO1983003086      11518529.0   \n",
       "151         151   WO1992000061         15460491  WO1990003787      15459638.0   \n",
       "152         152   WO1992000061         15460491  WO1990003787      15459638.0   \n",
       "243         243   WO1998000536         20573216  WO1982004405      22752620.0   \n",
       "\n",
       "    Citing_app_nbr_EPO Cited_App_nbr_EPO  prio_year  app_year         IPC  \\\n",
       "149      EP19910912173     EP19810901693       1990      1991  A61K009/12   \n",
       "150      EP19910912173     EP19810901693       1990      1991  A61K009/12   \n",
       "151      EP19910912173     EP19880905970       1990      1991  A61K009/12   \n",
       "152      EP19910912173     EP19880905970       1990      1991  A61K009/12   \n",
       "243      EP19970929378     EP19810901804       1996      1997  C07K016/18   \n",
       "\n",
       "          pct_nbr    appln_id                inv_name  \\\n",
       "149  WO1992000061  23031942.0            SOMANI, Asit   \n",
       "150  WO1992000061  23031942.0           BOOLES, Clive   \n",
       "151  WO1992000061  23031942.0            SOMANI, Asit   \n",
       "152  WO1992000061  23031942.0           BOOLES, Clive   \n",
       "243  WO1998000536  23212025.0  TAUSSIG, Michael, John   \n",
       "\n",
       "                                   address reg_code ctry_code  inv_share  \n",
       "149  Loughborough, Leicestershire LE11 1JR    UKF22        GB        0.5  \n",
       "150      Shepshed, Leicestershire LE12 9HJ    UKF22        GB        0.5  \n",
       "151  Loughborough, Leicestershire LE11 1JR    UKF22        GB        0.5  \n",
       "152      Shepshed, Leicestershire LE12 9HJ    UKF22        GB        0.5  \n",
       "243               Newmarket, Cambs CB8 9XG    UKH12        GB        0.5  "
      ]
     },
     "execution_count": 23,
     "metadata": {},
     "output_type": "execute_result"
    }
   ],
   "source": [
    "pct_pharma.head()"
   ]
  },
  {
   "cell_type": "code",
   "execution_count": 30,
   "id": "856b004b-1512-47a1-bbd5-d3ca70b42830",
   "metadata": {},
   "outputs": [
    {
     "data": {
      "text/html": [
       "<div>\n",
       "<style scoped>\n",
       "    .dataframe tbody tr th:only-of-type {\n",
       "        vertical-align: middle;\n",
       "    }\n",
       "\n",
       "    .dataframe tbody tr th {\n",
       "        vertical-align: top;\n",
       "    }\n",
       "\n",
       "    .dataframe thead th {\n",
       "        text-align: right;\n",
       "    }\n",
       "</style>\n",
       "<table border=\"1\" class=\"dataframe\">\n",
       "  <thead>\n",
       "    <tr style=\"text-align: right;\">\n",
       "      <th></th>\n",
       "      <th>Citing_app_nbr_EPO</th>\n",
       "      <th>Cited_App_nbr_EPO</th>\n",
       "      <th>IPC</th>\n",
       "      <th>reg_code</th>\n",
       "      <th>prio_year</th>\n",
       "    </tr>\n",
       "  </thead>\n",
       "  <tbody>\n",
       "    <tr>\n",
       "      <th>149</th>\n",
       "      <td>EP19910912173</td>\n",
       "      <td>EP19810901693</td>\n",
       "      <td>A61K009/12</td>\n",
       "      <td>UKF22</td>\n",
       "      <td>1990</td>\n",
       "    </tr>\n",
       "    <tr>\n",
       "      <th>150</th>\n",
       "      <td>EP19910912173</td>\n",
       "      <td>EP19810901693</td>\n",
       "      <td>A61K009/12</td>\n",
       "      <td>UKF22</td>\n",
       "      <td>1990</td>\n",
       "    </tr>\n",
       "    <tr>\n",
       "      <th>151</th>\n",
       "      <td>EP19910912173</td>\n",
       "      <td>EP19880905970</td>\n",
       "      <td>A61K009/12</td>\n",
       "      <td>UKF22</td>\n",
       "      <td>1990</td>\n",
       "    </tr>\n",
       "    <tr>\n",
       "      <th>152</th>\n",
       "      <td>EP19910912173</td>\n",
       "      <td>EP19880905970</td>\n",
       "      <td>A61K009/12</td>\n",
       "      <td>UKF22</td>\n",
       "      <td>1990</td>\n",
       "    </tr>\n",
       "    <tr>\n",
       "      <th>243</th>\n",
       "      <td>EP19970929378</td>\n",
       "      <td>EP19810901804</td>\n",
       "      <td>C07K016/18</td>\n",
       "      <td>UKH12</td>\n",
       "      <td>1996</td>\n",
       "    </tr>\n",
       "  </tbody>\n",
       "</table>\n",
       "</div>"
      ],
      "text/plain": [
       "    Citing_app_nbr_EPO Cited_App_nbr_EPO         IPC reg_code  prio_year\n",
       "149      EP19910912173     EP19810901693  A61K009/12    UKF22       1990\n",
       "150      EP19910912173     EP19810901693  A61K009/12    UKF22       1990\n",
       "151      EP19910912173     EP19880905970  A61K009/12    UKF22       1990\n",
       "152      EP19910912173     EP19880905970  A61K009/12    UKF22       1990\n",
       "243      EP19970929378     EP19810901804  C07K016/18    UKH12       1996"
      ]
     },
     "execution_count": 30,
     "metadata": {},
     "output_type": "execute_result"
    }
   ],
   "source": [
    "pct_pharma_new = pct_pharma[['Citing_app_nbr_EPO','Cited_App_nbr_EPO','IPC','reg_code','prio_year']]\n",
    "pct_pharma_new.head()"
   ]
  },
  {
   "cell_type": "code",
   "execution_count": 31,
   "id": "7fa9bd7e-28f8-4dfb-9587-98e20cdea9e2",
   "metadata": {},
   "outputs": [
    {
     "data": {
      "text/plain": [
       "5737"
      ]
     },
     "execution_count": 31,
     "metadata": {},
     "output_type": "execute_result"
    }
   ],
   "source": [
    "len(epo_pharma_new)"
   ]
  },
  {
   "cell_type": "code",
   "execution_count": 32,
   "id": "3d0efc34-4f88-4560-905a-95486765c410",
   "metadata": {},
   "outputs": [
    {
     "data": {
      "text/plain": [
       "1932"
      ]
     },
     "execution_count": 32,
     "metadata": {},
     "output_type": "execute_result"
    }
   ],
   "source": [
    "len(pct_pharma_new)"
   ]
  },
  {
   "cell_type": "code",
   "execution_count": 34,
   "id": "50b7421c-95a8-42d3-882c-9b5b5b11c859",
   "metadata": {},
   "outputs": [],
   "source": [
    "# Rename the columns in pct_pharma_new to match those in epo_pharma_new for merging\n",
    "pct_pharma_new = pct_pharma_new.rename(columns={\"Citing_app_nbr_EPO\": \"Citing_app_nbr\", \n",
    "                                                \"Cited_App_nbr_EPO\": \"Cited_App_nbr\"})"
   ]
  },
  {
   "cell_type": "code",
   "execution_count": 35,
   "id": "8dfebfee-9eee-4c28-bb23-3c2dfee5dda6",
   "metadata": {},
   "outputs": [],
   "source": [
    "# Merge the two dataframes\n",
    "merged_df = pd.merge(epo_pharma_new, pct_pharma_new, \n",
    "                     on=[\"Citing_app_nbr\", \"Cited_App_nbr\"], \n",
    "                     how='outer', indicator=True)\n",
    "\n",
    "# Filter the rows where pair appears only in left dataframe (epo_pharma_new) \n",
    "# or right dataframe (pct_pharma_new), thus avoiding repetition\n",
    "merged_uk = merged_df[merged_df[\"_merge\"] != \"both\"]\n",
    "\n",
    "# Dropping the indicator column post filtration\n",
    "merged_uk = merged_uk.drop(columns=[\"_merge\"])"
   ]
  },
  {
   "cell_type": "code",
   "execution_count": 37,
   "id": "e8faa4d8-517a-4d54-8708-2526dc57e964",
   "metadata": {},
   "outputs": [
    {
     "data": {
      "text/html": [
       "<div>\n",
       "<style scoped>\n",
       "    .dataframe tbody tr th:only-of-type {\n",
       "        vertical-align: middle;\n",
       "    }\n",
       "\n",
       "    .dataframe tbody tr th {\n",
       "        vertical-align: top;\n",
       "    }\n",
       "\n",
       "    .dataframe thead th {\n",
       "        text-align: right;\n",
       "    }\n",
       "</style>\n",
       "<table border=\"1\" class=\"dataframe\">\n",
       "  <thead>\n",
       "    <tr style=\"text-align: right;\">\n",
       "      <th></th>\n",
       "      <th>Citing_app_nbr</th>\n",
       "      <th>Cited_App_nbr</th>\n",
       "      <th>IPC_x</th>\n",
       "      <th>reg_code_x</th>\n",
       "      <th>prio_year_x</th>\n",
       "      <th>IPC_y</th>\n",
       "      <th>reg_code_y</th>\n",
       "      <th>prio_year_y</th>\n",
       "    </tr>\n",
       "  </thead>\n",
       "  <tbody>\n",
       "    <tr>\n",
       "      <th>7664</th>\n",
       "      <td>EP20170791442</td>\n",
       "      <td>EP20130789610</td>\n",
       "      <td>NaN</td>\n",
       "      <td>NaN</td>\n",
       "      <td>NaN</td>\n",
       "      <td>C07K014/755</td>\n",
       "      <td>GBZZZ</td>\n",
       "      <td>2016.0</td>\n",
       "    </tr>\n",
       "    <tr>\n",
       "      <th>7665</th>\n",
       "      <td>EP20170739450</td>\n",
       "      <td>EP20150734640</td>\n",
       "      <td>NaN</td>\n",
       "      <td>NaN</td>\n",
       "      <td>NaN</td>\n",
       "      <td>C07K014/32</td>\n",
       "      <td>UKC22</td>\n",
       "      <td>2016.0</td>\n",
       "    </tr>\n",
       "    <tr>\n",
       "      <th>7666</th>\n",
       "      <td>EP20170739450</td>\n",
       "      <td>EP20150734640</td>\n",
       "      <td>NaN</td>\n",
       "      <td>NaN</td>\n",
       "      <td>NaN</td>\n",
       "      <td>C07K014/32</td>\n",
       "      <td>UKC22</td>\n",
       "      <td>2016.0</td>\n",
       "    </tr>\n",
       "    <tr>\n",
       "      <th>7667</th>\n",
       "      <td>EP20170794046</td>\n",
       "      <td>EP20170717172</td>\n",
       "      <td>NaN</td>\n",
       "      <td>NaN</td>\n",
       "      <td>NaN</td>\n",
       "      <td>A61K035/15</td>\n",
       "      <td>UKJ21</td>\n",
       "      <td>2016.0</td>\n",
       "    </tr>\n",
       "    <tr>\n",
       "      <th>7668</th>\n",
       "      <td>EP20170794046</td>\n",
       "      <td>EP20170717172</td>\n",
       "      <td>NaN</td>\n",
       "      <td>NaN</td>\n",
       "      <td>NaN</td>\n",
       "      <td>A61K035/15</td>\n",
       "      <td>UKJ21</td>\n",
       "      <td>2016.0</td>\n",
       "    </tr>\n",
       "  </tbody>\n",
       "</table>\n",
       "</div>"
      ],
      "text/plain": [
       "     Citing_app_nbr  Cited_App_nbr IPC_x reg_code_x  prio_year_x        IPC_y  \\\n",
       "7664  EP20170791442  EP20130789610   NaN        NaN          NaN  C07K014/755   \n",
       "7665  EP20170739450  EP20150734640   NaN        NaN          NaN   C07K014/32   \n",
       "7666  EP20170739450  EP20150734640   NaN        NaN          NaN   C07K014/32   \n",
       "7667  EP20170794046  EP20170717172   NaN        NaN          NaN   A61K035/15   \n",
       "7668  EP20170794046  EP20170717172   NaN        NaN          NaN   A61K035/15   \n",
       "\n",
       "     reg_code_y  prio_year_y  \n",
       "7664      GBZZZ       2016.0  \n",
       "7665      UKC22       2016.0  \n",
       "7666      UKC22       2016.0  \n",
       "7667      UKJ21       2016.0  \n",
       "7668      UKJ21       2016.0  "
      ]
     },
     "execution_count": 37,
     "metadata": {},
     "output_type": "execute_result"
    }
   ],
   "source": [
    "merged_uk.tail()"
   ]
  },
  {
   "cell_type": "code",
   "execution_count": 44,
   "id": "67fde1df-d000-479c-a934-9c7065ae5fbf",
   "metadata": {},
   "outputs": [
    {
     "data": {
      "text/plain": [
       "7669"
      ]
     },
     "execution_count": 44,
     "metadata": {},
     "output_type": "execute_result"
    }
   ],
   "source": [
    "len(merged_uk)"
   ]
  },
  {
   "cell_type": "code",
   "execution_count": 41,
   "id": "bcc1f019-0d31-4b11-891d-93159b7b3c45",
   "metadata": {},
   "outputs": [],
   "source": [
    "# Check for rows where both 'IPC_x' and 'IPC_y' have values\n",
    "both_values_ipc = merged_uk[(merged_uk['IPC_x'].notnull()) & (merged_uk['IPC_y'].notnull())]\n",
    "\n",
    "# Check for rows where both 'reg_code_x' and 'reg_code_y' have values\n",
    "both_values_reg_code = merged_uk[(merged_uk['reg_code_x'].notnull()) & (merged_uk['reg_code_y'].notnull())]\n",
    "\n",
    "# Check for rows where both 'prio_year_x' and 'prio_year_y' have values\n",
    "both_values_prio_year = merged_uk[(merged_uk['prio_year_x'].notnull()) & (merged_uk['prio_year_y'].notnull())]\n"
   ]
  },
  {
   "cell_type": "code",
   "execution_count": 42,
   "id": "1708b4e2-8a17-4939-b604-a95a25921d09",
   "metadata": {},
   "outputs": [
    {
     "name": "stdout",
     "output_type": "stream",
     "text": [
      "Number of rows where both IPC_x and IPC_y have values:  0\n",
      "Number of rows where both reg_code_x and reg_code_y have values:  0\n",
      "Number of rows where both prio_year_x and prio_year_y have values:  0\n"
     ]
    }
   ],
   "source": [
    "print('Number of rows where both IPC_x and IPC_y have values: ', len(both_values_ipc))\n",
    "print('Number of rows where both reg_code_x and reg_code_y have values: ', len(both_values_reg_code))\n",
    "print('Number of rows where both prio_year_x and prio_year_y have values: ', len(both_values_prio_year))"
   ]
  },
  {
   "cell_type": "code",
   "execution_count": 43,
   "id": "1cee62a5-0baf-4d74-a980-5834051eaa6b",
   "metadata": {},
   "outputs": [],
   "source": [
    "merged_uk[\"IPC\"] = merged_uk[\"IPC_x\"].combine_first(merged_uk[\"IPC_y\"])\n",
    "merged_uk[\"reg_code\"] = merged_uk[\"reg_code_x\"].combine_first(merged_uk[\"reg_code_y\"])\n",
    "merged_uk[\"prio_year\"] = merged_uk[\"prio_year_x\"].combine_first(merged_uk[\"prio_year_y\"])\n",
    "\n",
    "# Drop the original _x and _y columns\n",
    "merged_uk = merged_uk.drop(columns=[\"IPC_x\", \"IPC_y\",\"reg_code_x\", \"reg_code_y\",\"prio_year_x\", \"prio_year_y\"])"
   ]
  },
  {
   "cell_type": "code",
   "execution_count": 45,
   "id": "0f3bd7ce-f6cb-47da-b587-ae2429cabda2",
   "metadata": {},
   "outputs": [
    {
     "data": {
      "text/html": [
       "<div>\n",
       "<style scoped>\n",
       "    .dataframe tbody tr th:only-of-type {\n",
       "        vertical-align: middle;\n",
       "    }\n",
       "\n",
       "    .dataframe tbody tr th {\n",
       "        vertical-align: top;\n",
       "    }\n",
       "\n",
       "    .dataframe thead th {\n",
       "        text-align: right;\n",
       "    }\n",
       "</style>\n",
       "<table border=\"1\" class=\"dataframe\">\n",
       "  <thead>\n",
       "    <tr style=\"text-align: right;\">\n",
       "      <th></th>\n",
       "      <th>Citing_app_nbr</th>\n",
       "      <th>Cited_App_nbr</th>\n",
       "      <th>IPC</th>\n",
       "      <th>reg_code</th>\n",
       "      <th>prio_year</th>\n",
       "    </tr>\n",
       "  </thead>\n",
       "  <tbody>\n",
       "    <tr>\n",
       "      <th>0</th>\n",
       "      <td>EP19790300237</td>\n",
       "      <td>EP19780300148</td>\n",
       "      <td>A61K031/43</td>\n",
       "      <td>UKI23</td>\n",
       "      <td>1978.0</td>\n",
       "    </tr>\n",
       "    <tr>\n",
       "      <th>1</th>\n",
       "      <td>EP19790300237</td>\n",
       "      <td>EP19780300148</td>\n",
       "      <td>A61K031/43</td>\n",
       "      <td>UKI23</td>\n",
       "      <td>1978.0</td>\n",
       "    </tr>\n",
       "    <tr>\n",
       "      <th>2</th>\n",
       "      <td>EP19790300237</td>\n",
       "      <td>EP19780300148</td>\n",
       "      <td>A61K031/43</td>\n",
       "      <td>UKI23</td>\n",
       "      <td>1978.0</td>\n",
       "    </tr>\n",
       "    <tr>\n",
       "      <th>3</th>\n",
       "      <td>EP19790301143</td>\n",
       "      <td>EP19780100823</td>\n",
       "      <td>A61K031/415</td>\n",
       "      <td>UKH23</td>\n",
       "      <td>1978.0</td>\n",
       "    </tr>\n",
       "    <tr>\n",
       "      <th>4</th>\n",
       "      <td>EP19790301143</td>\n",
       "      <td>EP19780100823</td>\n",
       "      <td>A61K031/415</td>\n",
       "      <td>UKH23</td>\n",
       "      <td>1978.0</td>\n",
       "    </tr>\n",
       "  </tbody>\n",
       "</table>\n",
       "</div>"
      ],
      "text/plain": [
       "  Citing_app_nbr  Cited_App_nbr          IPC reg_code  prio_year\n",
       "0  EP19790300237  EP19780300148   A61K031/43    UKI23     1978.0\n",
       "1  EP19790300237  EP19780300148   A61K031/43    UKI23     1978.0\n",
       "2  EP19790300237  EP19780300148   A61K031/43    UKI23     1978.0\n",
       "3  EP19790301143  EP19780100823  A61K031/415    UKH23     1978.0\n",
       "4  EP19790301143  EP19780100823  A61K031/415    UKH23     1978.0"
      ]
     },
     "execution_count": 45,
     "metadata": {},
     "output_type": "execute_result"
    }
   ],
   "source": [
    "merged_uk.head()"
   ]
  },
  {
   "cell_type": "code",
   "execution_count": 49,
   "id": "aa469672-6965-45f2-8337-bef68f3e215c",
   "metadata": {},
   "outputs": [
    {
     "data": {
      "text/plain": [
       "4164"
      ]
     },
     "execution_count": 49,
     "metadata": {},
     "output_type": "execute_result"
    }
   ],
   "source": [
    "merged_uk=merged_uk.drop_duplicates()\n",
    "len(merged_uk)"
   ]
  },
  {
   "cell_type": "code",
   "execution_count": 50,
   "id": "f63dc938-5b5b-44a5-8d3b-065b7d61b7c5",
   "metadata": {},
   "outputs": [
    {
     "data": {
      "text/html": [
       "<div>\n",
       "<style scoped>\n",
       "    .dataframe tbody tr th:only-of-type {\n",
       "        vertical-align: middle;\n",
       "    }\n",
       "\n",
       "    .dataframe tbody tr th {\n",
       "        vertical-align: top;\n",
       "    }\n",
       "\n",
       "    .dataframe thead th {\n",
       "        text-align: right;\n",
       "    }\n",
       "</style>\n",
       "<table border=\"1\" class=\"dataframe\">\n",
       "  <thead>\n",
       "    <tr style=\"text-align: right;\">\n",
       "      <th></th>\n",
       "      <th>Citing_app_nbr</th>\n",
       "      <th>Cited_App_nbr</th>\n",
       "      <th>IPC</th>\n",
       "      <th>reg_code</th>\n",
       "      <th>prio_year</th>\n",
       "    </tr>\n",
       "  </thead>\n",
       "  <tbody>\n",
       "    <tr>\n",
       "      <th>0</th>\n",
       "      <td>EP19790300237</td>\n",
       "      <td>EP19780300148</td>\n",
       "      <td>A61K031/43</td>\n",
       "      <td>UKI23</td>\n",
       "      <td>1978.0</td>\n",
       "    </tr>\n",
       "    <tr>\n",
       "      <th>3</th>\n",
       "      <td>EP19790301143</td>\n",
       "      <td>EP19780100823</td>\n",
       "      <td>A61K031/415</td>\n",
       "      <td>UKH23</td>\n",
       "      <td>1978.0</td>\n",
       "    </tr>\n",
       "    <tr>\n",
       "      <th>5</th>\n",
       "      <td>EP19790301145</td>\n",
       "      <td>EP19780100823</td>\n",
       "      <td>A61K031/415</td>\n",
       "      <td>UKH33</td>\n",
       "      <td>1978.0</td>\n",
       "    </tr>\n",
       "    <tr>\n",
       "      <th>7</th>\n",
       "      <td>EP19790301144</td>\n",
       "      <td>EP19780100823</td>\n",
       "      <td>A61K031/415</td>\n",
       "      <td>UKH23</td>\n",
       "      <td>1978.0</td>\n",
       "    </tr>\n",
       "    <tr>\n",
       "      <th>9</th>\n",
       "      <td>EP19790301142</td>\n",
       "      <td>EP19780100823</td>\n",
       "      <td>A61K031/41</td>\n",
       "      <td>UKH33</td>\n",
       "      <td>1978.0</td>\n",
       "    </tr>\n",
       "  </tbody>\n",
       "</table>\n",
       "</div>"
      ],
      "text/plain": [
       "  Citing_app_nbr  Cited_App_nbr          IPC reg_code  prio_year\n",
       "0  EP19790300237  EP19780300148   A61K031/43    UKI23     1978.0\n",
       "3  EP19790301143  EP19780100823  A61K031/415    UKH23     1978.0\n",
       "5  EP19790301145  EP19780100823  A61K031/415    UKH33     1978.0\n",
       "7  EP19790301144  EP19780100823  A61K031/415    UKH23     1978.0\n",
       "9  EP19790301142  EP19780100823   A61K031/41    UKH33     1978.0"
      ]
     },
     "execution_count": 50,
     "metadata": {},
     "output_type": "execute_result"
    }
   ],
   "source": [
    "merged_uk.head()"
   ]
  },
  {
   "cell_type": "code",
   "execution_count": 47,
   "id": "8d5f207e-174d-41b7-8bc8-92937901a979",
   "metadata": {},
   "outputs": [],
   "source": [
    "# Create a mask of boolean values\n",
    "mask = merged_uk['Cited_App_nbr'].isin(merged_uk['Citing_app_nbr'])"
   ]
  },
  {
   "cell_type": "code",
   "execution_count": 51,
   "id": "e3383d83-2110-421b-9117-89cfa134028b",
   "metadata": {},
   "outputs": [],
   "source": [
    "# Create a mask of boolean values\n",
    "mask_new = merged_uk['Cited_App_nbr'].isin(epo_cited['app_nbr'])"
   ]
  },
  {
   "cell_type": "code",
   "execution_count": 48,
   "id": "6f80b5eb-3d8a-4b5f-bceb-3c869e50158f",
   "metadata": {},
   "outputs": [
    {
     "name": "stdout",
     "output_type": "stream",
     "text": [
      "Number of 'Cited_App_nbr' values found in 'Citing_app_nbr': 1736\n"
     ]
    }
   ],
   "source": [
    "print(\"Number of 'Cited_App_nbr' values found in 'Citing_app_nbr':\", mask.sum())"
   ]
  },
  {
   "cell_type": "code",
   "execution_count": 52,
   "id": "e7630f14-8dc2-473e-8936-56fb69720602",
   "metadata": {},
   "outputs": [
    {
     "name": "stdout",
     "output_type": "stream",
     "text": [
      "Number of 'Cited_App_nbr' values found in 'epo_cited': 4164\n"
     ]
    }
   ],
   "source": [
    "print(\"Number of 'Cited_App_nbr' values found in 'epo_cited':\", mask_new.sum())"
   ]
  },
  {
   "cell_type": "code",
   "execution_count": 53,
   "id": "c39e29ee-0d0e-4b45-9f54-5d2f0084d57a",
   "metadata": {},
   "outputs": [],
   "source": [
    "merged_uk = merged_uk.rename(columns={\"IPC\": \"IPC_Citing\",\"reg_code\": \"reg_code_citing\",\"prio_year\":\"prio_year_citing\"})"
   ]
  },
  {
   "cell_type": "code",
   "execution_count": 55,
   "id": "9e12a6af-55de-41a0-a517-cbae0795e6be",
   "metadata": {},
   "outputs": [],
   "source": [
    "merged_uk_new = merged_uk.copy()"
   ]
  },
  {
   "cell_type": "code",
   "execution_count": 57,
   "id": "26fe6d58-7dba-43d6-983c-3e87beb010b0",
   "metadata": {},
   "outputs": [],
   "source": [
    "merged_uk_new = pd.merge(merged_uk, epo_cited[['app_nbr', 'IPC', 'reg_code', 'prio_year']], \n",
    "                     left_on='Cited_App_nbr', right_on='app_nbr', \n",
    "                     how='left', suffixes=('', '_cited'))"
   ]
  },
  {
   "cell_type": "code",
   "execution_count": 58,
   "id": "4171338e-0e0e-4777-8757-80f5d88f9e1a",
   "metadata": {},
   "outputs": [
    {
     "data": {
      "text/plain": [
       "9084"
      ]
     },
     "execution_count": 58,
     "metadata": {},
     "output_type": "execute_result"
    }
   ],
   "source": [
    "len(merged_uk_new)"
   ]
  },
  {
   "cell_type": "code",
   "execution_count": 59,
   "id": "abb4774b-ec16-4c2c-a6b8-280ce6eccbc0",
   "metadata": {},
   "outputs": [
    {
     "data": {
      "text/html": [
       "<div>\n",
       "<style scoped>\n",
       "    .dataframe tbody tr th:only-of-type {\n",
       "        vertical-align: middle;\n",
       "    }\n",
       "\n",
       "    .dataframe tbody tr th {\n",
       "        vertical-align: top;\n",
       "    }\n",
       "\n",
       "    .dataframe thead th {\n",
       "        text-align: right;\n",
       "    }\n",
       "</style>\n",
       "<table border=\"1\" class=\"dataframe\">\n",
       "  <thead>\n",
       "    <tr style=\"text-align: right;\">\n",
       "      <th></th>\n",
       "      <th>Citing_app_nbr</th>\n",
       "      <th>Cited_App_nbr</th>\n",
       "      <th>IPC_Citing</th>\n",
       "      <th>reg_code_citing</th>\n",
       "      <th>prio_year_citing</th>\n",
       "      <th>app_nbr</th>\n",
       "      <th>IPC</th>\n",
       "      <th>reg_code</th>\n",
       "      <th>prio_year</th>\n",
       "    </tr>\n",
       "  </thead>\n",
       "  <tbody>\n",
       "    <tr>\n",
       "      <th>0</th>\n",
       "      <td>EP19790300237</td>\n",
       "      <td>EP19780300148</td>\n",
       "      <td>A61K031/43</td>\n",
       "      <td>UKI23</td>\n",
       "      <td>1978.0</td>\n",
       "      <td>EP19780300148</td>\n",
       "      <td>A61K031/41</td>\n",
       "      <td>UKI23</td>\n",
       "      <td>1977</td>\n",
       "    </tr>\n",
       "    <tr>\n",
       "      <th>1</th>\n",
       "      <td>EP19790300237</td>\n",
       "      <td>EP19780300148</td>\n",
       "      <td>A61K031/43</td>\n",
       "      <td>UKI23</td>\n",
       "      <td>1978.0</td>\n",
       "      <td>EP19780300148</td>\n",
       "      <td>A61K031/41</td>\n",
       "      <td>UKJ13</td>\n",
       "      <td>1977</td>\n",
       "    </tr>\n",
       "    <tr>\n",
       "      <th>2</th>\n",
       "      <td>EP19790300237</td>\n",
       "      <td>EP19780300148</td>\n",
       "      <td>A61K031/43</td>\n",
       "      <td>UKI23</td>\n",
       "      <td>1978.0</td>\n",
       "      <td>EP19780300148</td>\n",
       "      <td>A61K031/41</td>\n",
       "      <td>UKI23</td>\n",
       "      <td>1977</td>\n",
       "    </tr>\n",
       "    <tr>\n",
       "      <th>3</th>\n",
       "      <td>EP19790300237</td>\n",
       "      <td>EP19780300148</td>\n",
       "      <td>A61K031/43</td>\n",
       "      <td>UKI23</td>\n",
       "      <td>1978.0</td>\n",
       "      <td>EP19780300148</td>\n",
       "      <td>A61K031/41</td>\n",
       "      <td>UKI23</td>\n",
       "      <td>1977</td>\n",
       "    </tr>\n",
       "    <tr>\n",
       "      <th>4</th>\n",
       "      <td>EP19790301143</td>\n",
       "      <td>EP19780100823</td>\n",
       "      <td>A61K031/415</td>\n",
       "      <td>UKH23</td>\n",
       "      <td>1978.0</td>\n",
       "      <td>EP19780100823</td>\n",
       "      <td>A61K</td>\n",
       "      <td>UKJ42</td>\n",
       "      <td>1977</td>\n",
       "    </tr>\n",
       "  </tbody>\n",
       "</table>\n",
       "</div>"
      ],
      "text/plain": [
       "  Citing_app_nbr  Cited_App_nbr   IPC_Citing reg_code_citing  \\\n",
       "0  EP19790300237  EP19780300148   A61K031/43           UKI23   \n",
       "1  EP19790300237  EP19780300148   A61K031/43           UKI23   \n",
       "2  EP19790300237  EP19780300148   A61K031/43           UKI23   \n",
       "3  EP19790300237  EP19780300148   A61K031/43           UKI23   \n",
       "4  EP19790301143  EP19780100823  A61K031/415           UKH23   \n",
       "\n",
       "   prio_year_citing        app_nbr         IPC reg_code  prio_year  \n",
       "0            1978.0  EP19780300148  A61K031/41    UKI23       1977  \n",
       "1            1978.0  EP19780300148  A61K031/41    UKJ13       1977  \n",
       "2            1978.0  EP19780300148  A61K031/41    UKI23       1977  \n",
       "3            1978.0  EP19780300148  A61K031/41    UKI23       1977  \n",
       "4            1978.0  EP19780100823        A61K    UKJ42       1977  "
      ]
     },
     "execution_count": 59,
     "metadata": {},
     "output_type": "execute_result"
    }
   ],
   "source": [
    "merged_uk_new.head()"
   ]
  },
  {
   "cell_type": "code",
   "execution_count": 60,
   "id": "94e5ff83-52f3-4b72-8a0c-ae0a6736a379",
   "metadata": {},
   "outputs": [
    {
     "data": {
      "text/plain": [
       "6206"
      ]
     },
     "execution_count": 60,
     "metadata": {},
     "output_type": "execute_result"
    }
   ],
   "source": [
    "merged_uk_new = merged_uk_new.drop(['app_nbr'],axis=1)\n",
    "merged_uk_new = merged_uk_new.drop_duplicates()\n",
    "len(merged_uk_new)"
   ]
  },
  {
   "cell_type": "code",
   "execution_count": 62,
   "id": "2e01162d-a66f-41fd-b336-f63a2cfaf69b",
   "metadata": {},
   "outputs": [],
   "source": [
    "merged_uk_new = merged_uk_new.rename(columns={\"IPC\": \"IPC_Cited\",\"reg_code\": \"reg_code_Cited\",\"prio_year\":\"prio_year_cited\"})"
   ]
  },
  {
   "cell_type": "code",
   "execution_count": 63,
   "id": "efbe3bed-c9f2-44e4-a86a-ec88ef85ad5e",
   "metadata": {},
   "outputs": [
    {
     "data": {
      "text/html": [
       "<div>\n",
       "<style scoped>\n",
       "    .dataframe tbody tr th:only-of-type {\n",
       "        vertical-align: middle;\n",
       "    }\n",
       "\n",
       "    .dataframe tbody tr th {\n",
       "        vertical-align: top;\n",
       "    }\n",
       "\n",
       "    .dataframe thead th {\n",
       "        text-align: right;\n",
       "    }\n",
       "</style>\n",
       "<table border=\"1\" class=\"dataframe\">\n",
       "  <thead>\n",
       "    <tr style=\"text-align: right;\">\n",
       "      <th></th>\n",
       "      <th>Citing_app_nbr</th>\n",
       "      <th>Cited_App_nbr</th>\n",
       "      <th>IPC_Citing</th>\n",
       "      <th>reg_code_citing</th>\n",
       "      <th>prio_year_citing</th>\n",
       "      <th>IPC_Cited</th>\n",
       "      <th>reg_code_Cited</th>\n",
       "      <th>prio_year_cited</th>\n",
       "    </tr>\n",
       "  </thead>\n",
       "  <tbody>\n",
       "    <tr>\n",
       "      <th>0</th>\n",
       "      <td>EP19790300237</td>\n",
       "      <td>EP19780300148</td>\n",
       "      <td>A61K031/43</td>\n",
       "      <td>UKI23</td>\n",
       "      <td>1978.0</td>\n",
       "      <td>A61K031/41</td>\n",
       "      <td>UKI23</td>\n",
       "      <td>1977</td>\n",
       "    </tr>\n",
       "    <tr>\n",
       "      <th>1</th>\n",
       "      <td>EP19790300237</td>\n",
       "      <td>EP19780300148</td>\n",
       "      <td>A61K031/43</td>\n",
       "      <td>UKI23</td>\n",
       "      <td>1978.0</td>\n",
       "      <td>A61K031/41</td>\n",
       "      <td>UKJ13</td>\n",
       "      <td>1977</td>\n",
       "    </tr>\n",
       "    <tr>\n",
       "      <th>4</th>\n",
       "      <td>EP19790301143</td>\n",
       "      <td>EP19780100823</td>\n",
       "      <td>A61K031/415</td>\n",
       "      <td>UKH23</td>\n",
       "      <td>1978.0</td>\n",
       "      <td>A61K</td>\n",
       "      <td>UKJ42</td>\n",
       "      <td>1977</td>\n",
       "    </tr>\n",
       "    <tr>\n",
       "      <th>6</th>\n",
       "      <td>EP19790301145</td>\n",
       "      <td>EP19780100823</td>\n",
       "      <td>A61K031/415</td>\n",
       "      <td>UKH33</td>\n",
       "      <td>1978.0</td>\n",
       "      <td>A61K</td>\n",
       "      <td>UKJ42</td>\n",
       "      <td>1977</td>\n",
       "    </tr>\n",
       "    <tr>\n",
       "      <th>8</th>\n",
       "      <td>EP19790301144</td>\n",
       "      <td>EP19780100823</td>\n",
       "      <td>A61K031/415</td>\n",
       "      <td>UKH23</td>\n",
       "      <td>1978.0</td>\n",
       "      <td>A61K</td>\n",
       "      <td>UKJ42</td>\n",
       "      <td>1977</td>\n",
       "    </tr>\n",
       "  </tbody>\n",
       "</table>\n",
       "</div>"
      ],
      "text/plain": [
       "  Citing_app_nbr  Cited_App_nbr   IPC_Citing reg_code_citing  \\\n",
       "0  EP19790300237  EP19780300148   A61K031/43           UKI23   \n",
       "1  EP19790300237  EP19780300148   A61K031/43           UKI23   \n",
       "4  EP19790301143  EP19780100823  A61K031/415           UKH23   \n",
       "6  EP19790301145  EP19780100823  A61K031/415           UKH33   \n",
       "8  EP19790301144  EP19780100823  A61K031/415           UKH23   \n",
       "\n",
       "   prio_year_citing   IPC_Cited reg_code_Cited  prio_year_cited  \n",
       "0            1978.0  A61K031/41          UKI23             1977  \n",
       "1            1978.0  A61K031/41          UKJ13             1977  \n",
       "4            1978.0        A61K          UKJ42             1977  \n",
       "6            1978.0        A61K          UKJ42             1977  \n",
       "8            1978.0        A61K          UKJ42             1977  "
      ]
     },
     "execution_count": 63,
     "metadata": {},
     "output_type": "execute_result"
    }
   ],
   "source": [
    "merged_uk_new.head()"
   ]
  },
  {
   "cell_type": "code",
   "execution_count": 64,
   "id": "fe6c3378-9a1f-44e3-8db8-05030c64b8a0",
   "metadata": {},
   "outputs": [],
   "source": [
    "merged_uk_new.to_csv('Merged_UK.csv', index = False)"
   ]
  },
  {
   "cell_type": "code",
   "execution_count": 65,
   "id": "701fc3b0-b02c-4c7e-aee7-c46c280861cf",
   "metadata": {},
   "outputs": [],
   "source": [
    "G = merged_uk_new[['Citing_app_nbr','Cited_App_nbr']]"
   ]
  },
  {
   "cell_type": "code",
   "execution_count": 75,
   "id": "40d3b80a-52eb-432f-9f28-87e55d9184d4",
   "metadata": {},
   "outputs": [
    {
     "name": "stdout",
     "output_type": "stream",
     "text": [
      "4325\n"
     ]
    },
    {
     "data": {
      "text/html": [
       "<div>\n",
       "<style scoped>\n",
       "    .dataframe tbody tr th:only-of-type {\n",
       "        vertical-align: middle;\n",
       "    }\n",
       "\n",
       "    .dataframe tbody tr th {\n",
       "        vertical-align: top;\n",
       "    }\n",
       "\n",
       "    .dataframe thead th {\n",
       "        text-align: right;\n",
       "    }\n",
       "</style>\n",
       "<table border=\"1\" class=\"dataframe\">\n",
       "  <thead>\n",
       "    <tr style=\"text-align: right;\">\n",
       "      <th></th>\n",
       "      <th>Citing_app_nbr</th>\n",
       "      <th>Cited_App_nbr</th>\n",
       "      <th>reg_code_Cited</th>\n",
       "    </tr>\n",
       "  </thead>\n",
       "  <tbody>\n",
       "    <tr>\n",
       "      <th>0</th>\n",
       "      <td>EP19790300237</td>\n",
       "      <td>EP19780300148</td>\n",
       "      <td>UKI23</td>\n",
       "    </tr>\n",
       "    <tr>\n",
       "      <th>1</th>\n",
       "      <td>EP19790300237</td>\n",
       "      <td>EP19780300148</td>\n",
       "      <td>UKJ13</td>\n",
       "    </tr>\n",
       "    <tr>\n",
       "      <th>4</th>\n",
       "      <td>EP19790301143</td>\n",
       "      <td>EP19780100823</td>\n",
       "      <td>UKJ42</td>\n",
       "    </tr>\n",
       "    <tr>\n",
       "      <th>6</th>\n",
       "      <td>EP19790301145</td>\n",
       "      <td>EP19780100823</td>\n",
       "      <td>UKJ42</td>\n",
       "    </tr>\n",
       "    <tr>\n",
       "      <th>8</th>\n",
       "      <td>EP19790301144</td>\n",
       "      <td>EP19780100823</td>\n",
       "      <td>UKJ42</td>\n",
       "    </tr>\n",
       "  </tbody>\n",
       "</table>\n",
       "</div>"
      ],
      "text/plain": [
       "  Citing_app_nbr  Cited_App_nbr reg_code_Cited\n",
       "0  EP19790300237  EP19780300148          UKI23\n",
       "1  EP19790300237  EP19780300148          UKJ13\n",
       "4  EP19790301143  EP19780100823          UKJ42\n",
       "6  EP19790301145  EP19780100823          UKJ42\n",
       "8  EP19790301144  EP19780100823          UKJ42"
      ]
     },
     "execution_count": 75,
     "metadata": {},
     "output_type": "execute_result"
    }
   ],
   "source": [
    "cited = merged_uk_new[['Citing_app_nbr','Cited_App_nbr','reg_code_Cited']]\n",
    "cited=cited.drop_duplicates()\n",
    "print(len(cited))\n",
    "cited.head()"
   ]
  },
  {
   "cell_type": "code",
   "execution_count": 69,
   "id": "ecd58c66-218a-4b36-a07f-7efb84092c53",
   "metadata": {},
   "outputs": [
    {
     "data": {
      "text/html": [
       "<div>\n",
       "<style scoped>\n",
       "    .dataframe tbody tr th:only-of-type {\n",
       "        vertical-align: middle;\n",
       "    }\n",
       "\n",
       "    .dataframe tbody tr th {\n",
       "        vertical-align: top;\n",
       "    }\n",
       "\n",
       "    .dataframe thead th {\n",
       "        text-align: right;\n",
       "    }\n",
       "</style>\n",
       "<table border=\"1\" class=\"dataframe\">\n",
       "  <thead>\n",
       "    <tr style=\"text-align: right;\">\n",
       "      <th></th>\n",
       "      <th>Citing_app_nbr</th>\n",
       "      <th>Cited_App_nbr</th>\n",
       "    </tr>\n",
       "  </thead>\n",
       "  <tbody>\n",
       "    <tr>\n",
       "      <th>0</th>\n",
       "      <td>EP19790300237</td>\n",
       "      <td>EP19780300148</td>\n",
       "    </tr>\n",
       "    <tr>\n",
       "      <th>4</th>\n",
       "      <td>EP19790301143</td>\n",
       "      <td>EP19780100823</td>\n",
       "    </tr>\n",
       "    <tr>\n",
       "      <th>6</th>\n",
       "      <td>EP19790301145</td>\n",
       "      <td>EP19780100823</td>\n",
       "    </tr>\n",
       "    <tr>\n",
       "      <th>8</th>\n",
       "      <td>EP19790301144</td>\n",
       "      <td>EP19780100823</td>\n",
       "    </tr>\n",
       "    <tr>\n",
       "      <th>10</th>\n",
       "      <td>EP19790301142</td>\n",
       "      <td>EP19780100823</td>\n",
       "    </tr>\n",
       "  </tbody>\n",
       "</table>\n",
       "</div>"
      ],
      "text/plain": [
       "   Citing_app_nbr  Cited_App_nbr\n",
       "0   EP19790300237  EP19780300148\n",
       "4   EP19790301143  EP19780100823\n",
       "6   EP19790301145  EP19780100823\n",
       "8   EP19790301144  EP19780100823\n",
       "10  EP19790301142  EP19780100823"
      ]
     },
     "execution_count": 69,
     "metadata": {},
     "output_type": "execute_result"
    }
   ],
   "source": [
    "G=G.drop_duplicates()\n",
    "G.head()"
   ]
  },
  {
   "cell_type": "code",
   "execution_count": 70,
   "id": "8adbf2e5-3ed2-40ca-8c8a-fdbc508f1526",
   "metadata": {},
   "outputs": [
    {
     "data": {
      "text/plain": [
       "3036"
      ]
     },
     "execution_count": 70,
     "metadata": {},
     "output_type": "execute_result"
    }
   ],
   "source": [
    "len(G)"
   ]
  },
  {
   "cell_type": "code",
   "execution_count": 83,
   "id": "f2277160-8763-49da-8d6f-5d23abd0a6f7",
   "metadata": {},
   "outputs": [],
   "source": [
    "G.to_csv('Citation_Network.csv', index= False)"
   ]
  },
  {
   "cell_type": "code",
   "execution_count": 71,
   "id": "cab21581-bcad-41f2-8a9a-0d6e3f3f86c6",
   "metadata": {},
   "outputs": [
    {
     "name": "stdout",
     "output_type": "stream",
     "text": [
      "EP19870302620    55\n",
      "EP19840301996    26\n",
      "EP19820300416    22\n",
      "EP19790302978    22\n",
      "EP19870302296    21\n",
      "                 ..\n",
      "EP19930306569     1\n",
      "EP19900308542     1\n",
      "EP19940301513     1\n",
      "EP19930303360     1\n",
      "EP20170717172     1\n",
      "Name: Cited_App_nbr, Length: 1703, dtype: int64\n"
     ]
    }
   ],
   "source": [
    "# Count the number of times each patent in 'Cited_App_nbr' has been cited\n",
    "citation_counts =G['Cited_App_nbr'].value_counts()\n",
    "\n",
    "# Print the result\n",
    "print(citation_counts)\n"
   ]
  },
  {
   "cell_type": "code",
   "execution_count": 81,
   "id": "9fcaebdd-1956-43f3-a82e-ae99b692592d",
   "metadata": {},
   "outputs": [],
   "source": [
    "# Convert the series to a DataFrame\n",
    "citation_counts_df = citation_counts.reset_index()\n",
    "\n",
    "# Rename the columns\n",
    "citation_counts_df.columns = ['Cited_App_nbr', 'Citation_Count']"
   ]
  },
  {
   "cell_type": "code",
   "execution_count": 82,
   "id": "2742105e-75c6-4315-80fd-e1b60704c7ea",
   "metadata": {},
   "outputs": [
    {
     "name": "stdout",
     "output_type": "stream",
     "text": [
      "2341\n"
     ]
    },
    {
     "data": {
      "text/html": [
       "<div>\n",
       "<style scoped>\n",
       "    .dataframe tbody tr th:only-of-type {\n",
       "        vertical-align: middle;\n",
       "    }\n",
       "\n",
       "    .dataframe tbody tr th {\n",
       "        vertical-align: top;\n",
       "    }\n",
       "\n",
       "    .dataframe thead th {\n",
       "        text-align: right;\n",
       "    }\n",
       "</style>\n",
       "<table border=\"1\" class=\"dataframe\">\n",
       "  <thead>\n",
       "    <tr style=\"text-align: right;\">\n",
       "      <th></th>\n",
       "      <th>Cited_App_nbr</th>\n",
       "      <th>Citation_Count</th>\n",
       "      <th>reg_code_Cited</th>\n",
       "    </tr>\n",
       "  </thead>\n",
       "  <tbody>\n",
       "    <tr>\n",
       "      <th>0</th>\n",
       "      <td>EP19870302620</td>\n",
       "      <td>55</td>\n",
       "      <td>GBZZZ</td>\n",
       "    </tr>\n",
       "    <tr>\n",
       "      <th>55</th>\n",
       "      <td>EP19840301996</td>\n",
       "      <td>26</td>\n",
       "      <td>UKJ11</td>\n",
       "    </tr>\n",
       "    <tr>\n",
       "      <th>56</th>\n",
       "      <td>EP19840301996</td>\n",
       "      <td>26</td>\n",
       "      <td>UKJ13</td>\n",
       "    </tr>\n",
       "    <tr>\n",
       "      <th>57</th>\n",
       "      <td>EP19840301996</td>\n",
       "      <td>26</td>\n",
       "      <td>UKJ33</td>\n",
       "    </tr>\n",
       "    <tr>\n",
       "      <th>133</th>\n",
       "      <td>EP19820300416</td>\n",
       "      <td>22</td>\n",
       "      <td>UKD61</td>\n",
       "    </tr>\n",
       "  </tbody>\n",
       "</table>\n",
       "</div>"
      ],
      "text/plain": [
       "     Cited_App_nbr  Citation_Count reg_code_Cited\n",
       "0    EP19870302620              55          GBZZZ\n",
       "55   EP19840301996              26          UKJ11\n",
       "56   EP19840301996              26          UKJ13\n",
       "57   EP19840301996              26          UKJ33\n",
       "133  EP19820300416              22          UKD61"
      ]
     },
     "execution_count": 82,
     "metadata": {},
     "output_type": "execute_result"
    }
   ],
   "source": [
    "# Merge 'reg_code_cited' from 'cited' into 'citation_counts_df'\n",
    "citation_counts_df = pd.merge(citation_counts_df, cited[['Cited_App_nbr', 'reg_code_Cited']], \n",
    "                               on='Cited_App_nbr', \n",
    "                               how='left')\n",
    "citation_counts_df = citation_counts_df.drop_duplicates()\n",
    "print(len(citation_counts_df))\n",
    "citation_counts_df.head()"
   ]
  },
  {
   "cell_type": "code",
   "execution_count": 85,
   "id": "1dc99387-9161-4d1a-a71b-64736ae34f8d",
   "metadata": {},
   "outputs": [
    {
     "name": "stdout",
     "output_type": "stream",
     "text": [
      "reg_code_Cited\n",
      "GBZZZ    231\n",
      "GY000      1\n",
      "IM000      3\n",
      "UKC11      5\n",
      "UKC12      2\n",
      "        ... \n",
      "UKN01      2\n",
      "UKN02      7\n",
      "UKN03     28\n",
      "UKN04      2\n",
      "UKN05      1\n",
      "Name: Citation_Count, Length: 127, dtype: int64\n"
     ]
    }
   ],
   "source": [
    "# Group by 'reg_code_cited' and sum the 'Citation_Count'\n",
    "region_citation_counts = citation_counts_df.groupby('reg_code_Cited')['Citation_Count'].sum()\n",
    "\n",
    "# Print the result\n",
    "print(region_citation_counts)"
   ]
  },
  {
   "cell_type": "code",
   "execution_count": 86,
   "id": "3d3ab8ce-2489-4cb4-bcd8-5ef95b36a56f",
   "metadata": {},
   "outputs": [],
   "source": [
    "# Convert the series to a DataFrame\n",
    "region_citation_counts_df = region_citation_counts.reset_index()\n",
    "\n",
    "# Rename the columns\n",
    "region_citation_counts_df.columns = ['reg_code_cited', 'Total_Citation_Count']\n"
   ]
  },
  {
   "cell_type": "code",
   "execution_count": 87,
   "id": "b126606f-ccce-4f06-b623-28d9473e4245",
   "metadata": {},
   "outputs": [
    {
     "data": {
      "text/html": [
       "<div>\n",
       "<style scoped>\n",
       "    .dataframe tbody tr th:only-of-type {\n",
       "        vertical-align: middle;\n",
       "    }\n",
       "\n",
       "    .dataframe tbody tr th {\n",
       "        vertical-align: top;\n",
       "    }\n",
       "\n",
       "    .dataframe thead th {\n",
       "        text-align: right;\n",
       "    }\n",
       "</style>\n",
       "<table border=\"1\" class=\"dataframe\">\n",
       "  <thead>\n",
       "    <tr style=\"text-align: right;\">\n",
       "      <th></th>\n",
       "      <th>reg_code_cited</th>\n",
       "      <th>Total_Citation_Count</th>\n",
       "    </tr>\n",
       "  </thead>\n",
       "  <tbody>\n",
       "    <tr>\n",
       "      <th>0</th>\n",
       "      <td>GBZZZ</td>\n",
       "      <td>231</td>\n",
       "    </tr>\n",
       "    <tr>\n",
       "      <th>1</th>\n",
       "      <td>GY000</td>\n",
       "      <td>1</td>\n",
       "    </tr>\n",
       "    <tr>\n",
       "      <th>2</th>\n",
       "      <td>IM000</td>\n",
       "      <td>3</td>\n",
       "    </tr>\n",
       "    <tr>\n",
       "      <th>3</th>\n",
       "      <td>UKC11</td>\n",
       "      <td>5</td>\n",
       "    </tr>\n",
       "    <tr>\n",
       "      <th>4</th>\n",
       "      <td>UKC12</td>\n",
       "      <td>2</td>\n",
       "    </tr>\n",
       "  </tbody>\n",
       "</table>\n",
       "</div>"
      ],
      "text/plain": [
       "  reg_code_cited  Total_Citation_Count\n",
       "0          GBZZZ                   231\n",
       "1          GY000                     1\n",
       "2          IM000                     3\n",
       "3          UKC11                     5\n",
       "4          UKC12                     2"
      ]
     },
     "execution_count": 87,
     "metadata": {},
     "output_type": "execute_result"
    }
   ],
   "source": [
    "region_citation_counts_df.head()"
   ]
  },
  {
   "cell_type": "code",
   "execution_count": 93,
   "id": "985c44b2-2bf3-433b-a3e0-9e31220302c0",
   "metadata": {},
   "outputs": [],
   "source": [
    "region_citation_counts_df.to_csv('Region_Counts.csv', index= False)"
   ]
  },
  {
   "cell_type": "code",
   "execution_count": 88,
   "id": "423ab15d-36d3-471b-a808-c334757ebf8e",
   "metadata": {},
   "outputs": [
    {
     "name": "stdout",
     "output_type": "stream",
     "text": [
      "  NUTS_ID  LEVL_CODE CNTR_CODE     NAME_LATN     NUTS_NAME  MOUNT_TYPE  \\\n",
      "0      FR          0        FR        France        France         0.0   \n",
      "1      HR          0        HR      Hrvatska      Hrvatska         0.0   \n",
      "2      HU          0        HU  Magyarország  Magyarország         0.0   \n",
      "3      AL          0        AL     Shqipëria     Shqipëria         0.0   \n",
      "4      AT          0        AT    Österreich    Österreich         0.0   \n",
      "\n",
      "   URBN_TYPE  COAST_TYPE FID  \\\n",
      "0          0           0  FR   \n",
      "1          0           0  HR   \n",
      "2          0           0  HU   \n",
      "3          0           0  AL   \n",
      "4          0           0  AT   \n",
      "\n",
      "                                            geometry  \n",
      "0  MULTIPOLYGON (((9954236.116 -3059379.316, 9961...  \n",
      "1  MULTIPOLYGON (((4827385.889 2618351.326, 48483...  \n",
      "2  POLYGON ((5214660.069 2880853.832, 5216710.220...  \n",
      "3  POLYGON ((5129579.170 2204098.752, 5148385.473...  \n",
      "4  POLYGON ((4742889.368 2876362.725, 4783217.798...  \n"
     ]
    }
   ],
   "source": [
    "import geopandas as gpd\n",
    "\n",
    "# Define the file path\n",
    "file_path = 'Palma72H/NUTS_RG_20M_2021_3035.shp/NUTS_RG_20M_2021_3035.shp'\n",
    "\n",
    "# Read in the shapefile\n",
    "gdf = gpd.read_file(file_path)\n",
    "\n",
    "# Print the geodataframe\n",
    "print(gdf.head())"
   ]
  },
  {
   "cell_type": "code",
   "execution_count": 89,
   "id": "df3dab16-8570-440a-98ff-a56d9bcb7667",
   "metadata": {},
   "outputs": [],
   "source": [
    "region_citation_counts_df['reg_code_cited'] = region_citation_counts_df['reg_code_cited'].astype(str)\n",
    "gdf['NUTS_ID'] = gdf['NUTS_ID'].astype(str)"
   ]
  },
  {
   "cell_type": "code",
   "execution_count": 96,
   "id": "a8faa1c5-39bc-48bb-828d-7946eaa2ad6c",
   "metadata": {},
   "outputs": [],
   "source": [
    "# Merge region_citation_counts_df and gdf\n",
    "merged_gdf = region_citation_counts_df.merge(gdf, left_on='reg_code_cited', right_on='NUTS_ID', how='left')"
   ]
  },
  {
   "cell_type": "code",
   "execution_count": 97,
   "id": "42992470-1990-482d-b7c7-c390f673f2f0",
   "metadata": {},
   "outputs": [
    {
     "data": {
      "text/plain": [
       "127"
      ]
     },
     "execution_count": 97,
     "metadata": {},
     "output_type": "execute_result"
    }
   ],
   "source": [
    "len(merged_gdf)"
   ]
  },
  {
   "cell_type": "code",
   "execution_count": 98,
   "id": "33274563-f24a-4f9c-ae7f-4ade4c6d76f5",
   "metadata": {},
   "outputs": [
    {
     "data": {
      "text/plain": [
       "88"
      ]
     },
     "execution_count": 98,
     "metadata": {},
     "output_type": "execute_result"
    }
   ],
   "source": [
    "merged_gdf=merged_gdf.dropna(subset=['geometry'])\n",
    "len(merged_gdf)"
   ]
  },
  {
   "cell_type": "code",
   "execution_count": 112,
   "id": "4779c935-7d73-4b37-ba5a-cbcdf84cdded",
   "metadata": {},
   "outputs": [
    {
     "data": {
      "text/html": [
       "<div>\n",
       "<style scoped>\n",
       "    .dataframe tbody tr th:only-of-type {\n",
       "        vertical-align: middle;\n",
       "    }\n",
       "\n",
       "    .dataframe tbody tr th {\n",
       "        vertical-align: top;\n",
       "    }\n",
       "\n",
       "    .dataframe thead th {\n",
       "        text-align: right;\n",
       "    }\n",
       "</style>\n",
       "<table border=\"1\" class=\"dataframe\">\n",
       "  <thead>\n",
       "    <tr style=\"text-align: right;\">\n",
       "      <th></th>\n",
       "      <th>reg_code_cited</th>\n",
       "      <th>Total_Citation_Count</th>\n",
       "      <th>NUTS_ID</th>\n",
       "      <th>LEVL_CODE</th>\n",
       "      <th>CNTR_CODE</th>\n",
       "      <th>NAME_LATN</th>\n",
       "      <th>NUTS_NAME</th>\n",
       "      <th>MOUNT_TYPE</th>\n",
       "      <th>URBN_TYPE</th>\n",
       "      <th>COAST_TYPE</th>\n",
       "      <th>FID</th>\n",
       "      <th>geometry</th>\n",
       "    </tr>\n",
       "  </thead>\n",
       "  <tbody>\n",
       "    <tr>\n",
       "      <th>3</th>\n",
       "      <td>UKC11</td>\n",
       "      <td>5</td>\n",
       "      <td>UKC11</td>\n",
       "      <td>3.0</td>\n",
       "      <td>UK</td>\n",
       "      <td>Hartlepool and Stockton-on-Tees</td>\n",
       "      <td>Hartlepool and Stockton-on-Tees</td>\n",
       "      <td>4.0</td>\n",
       "      <td>1.0</td>\n",
       "      <td>1.0</td>\n",
       "      <td>UKC11</td>\n",
       "      <td>POLYGON ((3598172.586 3553993.879, 3597951.864...</td>\n",
       "    </tr>\n",
       "    <tr>\n",
       "      <th>4</th>\n",
       "      <td>UKC12</td>\n",
       "      <td>2</td>\n",
       "      <td>UKC12</td>\n",
       "      <td>3.0</td>\n",
       "      <td>UK</td>\n",
       "      <td>South Teesside</td>\n",
       "      <td>South Teesside</td>\n",
       "      <td>4.0</td>\n",
       "      <td>1.0</td>\n",
       "      <td>1.0</td>\n",
       "      <td>UKC12</td>\n",
       "      <td>POLYGON ((3625708.122 3546887.147, 3616038.678...</td>\n",
       "    </tr>\n",
       "    <tr>\n",
       "      <th>5</th>\n",
       "      <td>UKC13</td>\n",
       "      <td>3</td>\n",
       "      <td>UKC13</td>\n",
       "      <td>3.0</td>\n",
       "      <td>UK</td>\n",
       "      <td>Darlington</td>\n",
       "      <td>Darlington</td>\n",
       "      <td>4.0</td>\n",
       "      <td>1.0</td>\n",
       "      <td>2.0</td>\n",
       "      <td>UKC13</td>\n",
       "      <td>POLYGON ((3585028.631 3557236.128, 3583327.063...</td>\n",
       "    </tr>\n",
       "    <tr>\n",
       "      <th>6</th>\n",
       "      <td>UKC14</td>\n",
       "      <td>15</td>\n",
       "      <td>UKC14</td>\n",
       "      <td>3.0</td>\n",
       "      <td>UK</td>\n",
       "      <td>Durham CC</td>\n",
       "      <td>Durham CC</td>\n",
       "      <td>4.0</td>\n",
       "      <td>1.0</td>\n",
       "      <td>1.0</td>\n",
       "      <td>UKC14</td>\n",
       "      <td>POLYGON ((3582515.806 3590052.703, 3587447.069...</td>\n",
       "    </tr>\n",
       "    <tr>\n",
       "      <th>7</th>\n",
       "      <td>UKC21</td>\n",
       "      <td>7</td>\n",
       "      <td>UKC21</td>\n",
       "      <td>3.0</td>\n",
       "      <td>UK</td>\n",
       "      <td>Northumberland</td>\n",
       "      <td>Northumberland</td>\n",
       "      <td>4.0</td>\n",
       "      <td>2.0</td>\n",
       "      <td>1.0</td>\n",
       "      <td>UKC21</td>\n",
       "      <td>POLYGON ((3592155.267 3610215.783, 3576388.523...</td>\n",
       "    </tr>\n",
       "  </tbody>\n",
       "</table>\n",
       "</div>"
      ],
      "text/plain": [
       "  reg_code_cited  Total_Citation_Count NUTS_ID  LEVL_CODE CNTR_CODE  \\\n",
       "3          UKC11                     5   UKC11        3.0        UK   \n",
       "4          UKC12                     2   UKC12        3.0        UK   \n",
       "5          UKC13                     3   UKC13        3.0        UK   \n",
       "6          UKC14                    15   UKC14        3.0        UK   \n",
       "7          UKC21                     7   UKC21        3.0        UK   \n",
       "\n",
       "                         NAME_LATN                        NUTS_NAME  \\\n",
       "3  Hartlepool and Stockton-on-Tees  Hartlepool and Stockton-on-Tees   \n",
       "4                   South Teesside                   South Teesside   \n",
       "5                       Darlington                       Darlington   \n",
       "6                        Durham CC                        Durham CC   \n",
       "7                   Northumberland                   Northumberland   \n",
       "\n",
       "   MOUNT_TYPE  URBN_TYPE  COAST_TYPE    FID  \\\n",
       "3         4.0        1.0         1.0  UKC11   \n",
       "4         4.0        1.0         1.0  UKC12   \n",
       "5         4.0        1.0         2.0  UKC13   \n",
       "6         4.0        1.0         1.0  UKC14   \n",
       "7         4.0        2.0         1.0  UKC21   \n",
       "\n",
       "                                            geometry  \n",
       "3  POLYGON ((3598172.586 3553993.879, 3597951.864...  \n",
       "4  POLYGON ((3625708.122 3546887.147, 3616038.678...  \n",
       "5  POLYGON ((3585028.631 3557236.128, 3583327.063...  \n",
       "6  POLYGON ((3582515.806 3590052.703, 3587447.069...  \n",
       "7  POLYGON ((3592155.267 3610215.783, 3576388.523...  "
      ]
     },
     "execution_count": 112,
     "metadata": {},
     "output_type": "execute_result"
    }
   ],
   "source": [
    "merged_gdf.head()"
   ]
  },
  {
   "cell_type": "code",
   "execution_count": 108,
   "id": "8a581a3b-add2-4d83-ad7a-b34c40594542",
   "metadata": {},
   "outputs": [
    {
     "name": "stdout",
     "output_type": "stream",
     "text": [
      "0\n"
     ]
    }
   ],
   "source": [
    "print(merged_gdf['Total_Citation_Count'].isna().sum())"
   ]
  },
  {
   "cell_type": "code",
   "execution_count": 113,
   "id": "0ccac3ab-1dd1-4227-ad56-7ea7e6cdbaf7",
   "metadata": {},
   "outputs": [
    {
     "name": "stdout",
     "output_type": "stream",
     "text": [
      "0\n"
     ]
    }
   ],
   "source": [
    "print(merged_gdf['NUTS_NAME'].isna().sum())"
   ]
  },
  {
   "cell_type": "code",
   "execution_count": 103,
   "id": "51446d49-cbaa-4e5d-8b06-cbb9fa7f0d3d",
   "metadata": {},
   "outputs": [],
   "source": [
    "import geopandas as gpd\n",
    "import matplotlib.pyplot as plt"
   ]
  },
  {
   "cell_type": "code",
   "execution_count": 135,
   "id": "14cd5794-95d9-496e-a78e-3146aa1d0b2f",
   "metadata": {},
   "outputs": [
    {
     "data": {
      "image/png": "[encoded data removed]",
      "text/plain": [
       "<Figure size 1080x1080 with 2 Axes>"
      ]
     },
     "metadata": {
      "needs_background": "light"
     },
     "output_type": "display_data"
    }
   ],
   "source": [
    "# Load the world dataset\n",
    "world = gpd.read_file(gpd.datasets.get_path('naturalearth_lowres'))\n",
    "\n",
    "# Filter the UK\n",
    "uk = world[world['name'] == 'United Kingdom']\n",
    "merged_gdf = gpd.GeoDataFrame(merged_gdf, geometry='geometry')\n",
    "\n",
    "# Make sure the CRS for both GeoDataFrames is the same\n",
    "uk = uk.to_crs(merged_gdf.crs)\n",
    "\n",
    "# Define the size of the figure\n",
    "fig, ax = plt.subplots(1, 1, figsize=(15, 15))\n",
    "\n",
    "# Create the base map\n",
    "base = uk.plot(ax=ax, color='white', edgecolor='black')\n",
    "\n",
    "# Add your regions to the base map\n",
    "merged_gdf.plot(ax=base, column='Total_Citation_Count', cmap='YlOrRd', legend=True, legend_kwds={'label': \"Total Citation Count\", 'orientation': \"vertical\"}, edgecolor='black')\n",
    "\n",
    "# Move the legend to the right\n",
    "leg = ax.get_legend()\n",
    "# ax.add_artist(leg)\n",
    "# leg.set_bbox_to_anchor((1.15, 0.5))\n",
    "\n",
    "# Label regions\n",
    "# Apply annotation\n",
    "# Find the top 10 regions\n",
    "top10 = merged_gdf.nlargest(10, 'Total_Citation_Count')\n",
    "\n",
    "# Find the bottom 5 regions\n",
    "bottom5 = merged_gdf.nsmallest(5, 'Total_Citation_Count')\n",
    "\n",
    "# Combine top 10 and bottom 5\n",
    "label_df = pd.concat([top10, bottom5])\n",
    "\n",
    "# Get the colors of top 10 and bottom 5 regions\n",
    "top10_colors = top10['Total_Citation_Count']\n",
    "bottom5_colors = bottom5['Total_Citation_Count']\n",
    "\n",
    "cmap = plt.get_cmap('YlOrRd')\n",
    "\n",
    "# Get min and max citation counts for normalization\n",
    "vmin = merged_gdf['Total_Citation_Count'].min()\n",
    "vmax = merged_gdf['Total_Citation_Count'].max()\n",
    "\n",
    "# Generate legend elements\n",
    "legend_elements = []\n",
    "\n",
    "# Add top 10 regions to the legend\n",
    "for idx, row in top10.iterrows():\n",
    "    color = cmap((row['Total_Citation_Count'] - vmin) / (vmax - vmin))\n",
    "    patch = mpatches.Patch(color=color, label=row['NUTS_NAME'])\n",
    "    legend_elements.append(patch)\n",
    "\n",
    "# Add bottom 5 regions to the legend\n",
    "# for idx, row in bottom5.iterrows():\n",
    "#     color = cmap((row['Total_Citation_Count'] - vmin) / (vmax - vmin))\n",
    "#     patch = mpatches.Patch(color=color, label=row['NUTS_NAME'])\n",
    "#     legend_elements.append(patch)\n",
    "\n",
    "# Create the legend\n",
    "ax.legend(handles=legend_elements, loc='lower left',bbox_to_anchor=(-0.5, 0.2), title='Regions with Top 10 Counts')\n",
    "# Apply annotation only to top 10 and bottom 5 regions\n",
    "# label_df.apply(lambda x: ax.annotate(text=x.NUTS_NAME, xy=x.geometry.centroid.coords[0], ha='center'), axis=1);\n",
    "\n",
    "# merged_gdf.apply(lambda x: ax.annotate(text=x.NUTS_NAME, xy=x.geometry.centroid.coords[0], ha='center'),axis=1);\n",
    "plt.savefig('counts_map.png', dpi=300, bbox_inches='tight')\n",
    "\n",
    "plt.show()"
   ]
  }
 ],
 "metadata": {
  "kernelspec": {
   "display_name": "Python 3 (ipykernel)",
   "language": "python",
   "name": "python3"
  },
  "language_info": {
   "codemirror_mode": {
    "name": "ipython",
    "version": 3
   },
   "file_extension": ".py",
   "mimetype": "text/x-python",
   "name": "python",
   "nbconvert_exporter": "python",
   "pygments_lexer": "ipython3",
   "version": "3.10.5"
  }
 },
 "nbformat": 4,
 "nbformat_minor": 5
}
