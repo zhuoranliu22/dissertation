{
 "cells": [
  {
   "cell_type": "code",
   "execution_count": 1,
   "id": "d8b55208-6cd5-4045-af59-870601121966",
   "metadata": {},
   "outputs": [
    {
     "name": "stderr",
     "output_type": "stream",
     "text": [
      "<jemalloc>: MADV_DONTNEED does not work (memset will be used instead)\n",
      "<jemalloc>: (This is the expected behaviour if you are running under QEMU)\n"
     ]
    }
   ],
   "source": [
    "import pandas as pd"
   ]
  },
  {
   "cell_type": "code",
   "execution_count": 14,
   "id": "cdbaf713-a25c-4701-b1c3-53d6652da7af",
   "metadata": {},
   "outputs": [],
   "source": [
    "import dask.dataframe as dd\n",
    "import pyarrow.parquet as pq\n",
    "import pyarrow.dataset as ds\n",
    "import pyarrow.compute as pc\n",
    "import pyarrow.feather as ft"
   ]
  },
  {
   "cell_type": "code",
   "execution_count": 2,
   "id": "45f0d178-02f7-442b-8756-5f7928b61702",
   "metadata": {},
   "outputs": [],
   "source": [
    "cite = pd.read_csv('data/Merged_UK.csv')"
   ]
  },
  {
   "cell_type": "code",
   "execution_count": 3,
   "id": "97a2543d-b27c-4271-aa50-261950e9bfce",
   "metadata": {},
   "outputs": [
    {
     "data": {
      "text/html": [
       "<div>\n",
       "<style scoped>\n",
       "    .dataframe tbody tr th:only-of-type {\n",
       "        vertical-align: middle;\n",
       "    }\n",
       "\n",
       "    .dataframe tbody tr th {\n",
       "        vertical-align: top;\n",
       "    }\n",
       "\n",
       "    .dataframe thead th {\n",
       "        text-align: right;\n",
       "    }\n",
       "</style>\n",
       "<table border=\"1\" class=\"dataframe\">\n",
       "  <thead>\n",
       "    <tr style=\"text-align: right;\">\n",
       "      <th></th>\n",
       "      <th>Citing_app_nbr</th>\n",
       "      <th>Cited_App_nbr</th>\n",
       "      <th>IPC_Citing</th>\n",
       "      <th>reg_code_citing</th>\n",
       "      <th>prio_year_citing</th>\n",
       "      <th>IPC_Cited</th>\n",
       "      <th>reg_code_Cited</th>\n",
       "      <th>prio_year_cited</th>\n",
       "    </tr>\n",
       "  </thead>\n",
       "  <tbody>\n",
       "    <tr>\n",
       "      <th>0</th>\n",
       "      <td>EP19790300237</td>\n",
       "      <td>EP19780300148</td>\n",
       "      <td>A61K031/43</td>\n",
       "      <td>UKI23</td>\n",
       "      <td>1978.0</td>\n",
       "      <td>A61K031/41</td>\n",
       "      <td>UKI23</td>\n",
       "      <td>1977</td>\n",
       "    </tr>\n",
       "    <tr>\n",
       "      <th>1</th>\n",
       "      <td>EP19790300237</td>\n",
       "      <td>EP19780300148</td>\n",
       "      <td>A61K031/43</td>\n",
       "      <td>UKI23</td>\n",
       "      <td>1978.0</td>\n",
       "      <td>A61K031/41</td>\n",
       "      <td>UKJ13</td>\n",
       "      <td>1977</td>\n",
       "    </tr>\n",
       "    <tr>\n",
       "      <th>2</th>\n",
       "      <td>EP19790301143</td>\n",
       "      <td>EP19780100823</td>\n",
       "      <td>A61K031/415</td>\n",
       "      <td>UKH23</td>\n",
       "      <td>1978.0</td>\n",
       "      <td>A61K</td>\n",
       "      <td>UKJ42</td>\n",
       "      <td>1977</td>\n",
       "    </tr>\n",
       "    <tr>\n",
       "      <th>3</th>\n",
       "      <td>EP19790301145</td>\n",
       "      <td>EP19780100823</td>\n",
       "      <td>A61K031/415</td>\n",
       "      <td>UKH33</td>\n",
       "      <td>1978.0</td>\n",
       "      <td>A61K</td>\n",
       "      <td>UKJ42</td>\n",
       "      <td>1977</td>\n",
       "    </tr>\n",
       "    <tr>\n",
       "      <th>4</th>\n",
       "      <td>EP19790301144</td>\n",
       "      <td>EP19780100823</td>\n",
       "      <td>A61K031/415</td>\n",
       "      <td>UKH23</td>\n",
       "      <td>1978.0</td>\n",
       "      <td>A61K</td>\n",
       "      <td>UKJ42</td>\n",
       "      <td>1977</td>\n",
       "    </tr>\n",
       "  </tbody>\n",
       "</table>\n",
       "</div>"
      ],
      "text/plain": [
       "  Citing_app_nbr  Cited_App_nbr   IPC_Citing reg_code_citing  \\\n",
       "0  EP19790300237  EP19780300148   A61K031/43           UKI23   \n",
       "1  EP19790300237  EP19780300148   A61K031/43           UKI23   \n",
       "2  EP19790301143  EP19780100823  A61K031/415           UKH23   \n",
       "3  EP19790301145  EP19780100823  A61K031/415           UKH33   \n",
       "4  EP19790301144  EP19780100823  A61K031/415           UKH23   \n",
       "\n",
       "   prio_year_citing   IPC_Cited reg_code_Cited  prio_year_cited  \n",
       "0            1978.0  A61K031/41          UKI23             1977  \n",
       "1            1978.0  A61K031/41          UKJ13             1977  \n",
       "2            1978.0        A61K          UKJ42             1977  \n",
       "3            1978.0        A61K          UKJ42             1977  \n",
       "4            1978.0        A61K          UKJ42             1977  "
      ]
     },
     "execution_count": 3,
     "metadata": {},
     "output_type": "execute_result"
    }
   ],
   "source": [
    "cite.head()"
   ]
  },
  {
   "cell_type": "code",
   "execution_count": 5,
   "id": "2c6f6667-1645-4b1e-8785-e90bbc6f7f6b",
   "metadata": {},
   "outputs": [
    {
     "data": {
      "text/html": [
       "<div>\n",
       "<style scoped>\n",
       "    .dataframe tbody tr th:only-of-type {\n",
       "        vertical-align: middle;\n",
       "    }\n",
       "\n",
       "    .dataframe tbody tr th {\n",
       "        vertical-align: top;\n",
       "    }\n",
       "\n",
       "    .dataframe thead th {\n",
       "        text-align: right;\n",
       "    }\n",
       "</style>\n",
       "<table border=\"1\" class=\"dataframe\">\n",
       "  <thead>\n",
       "    <tr style=\"text-align: right;\">\n",
       "      <th></th>\n",
       "      <th>app_nbr</th>\n",
       "      <th>appln_id</th>\n",
       "      <th>person_id</th>\n",
       "      <th>inv_name</th>\n",
       "      <th>address</th>\n",
       "      <th>reg_code</th>\n",
       "      <th>ctry_code</th>\n",
       "      <th>prio_year</th>\n",
       "      <th>app_year</th>\n",
       "      <th>IPC</th>\n",
       "    </tr>\n",
       "  </thead>\n",
       "  <tbody>\n",
       "    <tr>\n",
       "      <th>0</th>\n",
       "      <td>EP19780100395</td>\n",
       "      <td>16427449.0</td>\n",
       "      <td>2214748.0</td>\n",
       "      <td>Johnston, Michael Denis</td>\n",
       "      <td>16 Altyre Way,Beckenham Kent</td>\n",
       "      <td>UKJ42</td>\n",
       "      <td>GB</td>\n",
       "      <td>1977</td>\n",
       "      <td>1978</td>\n",
       "      <td>A61K038/21</td>\n",
       "    </tr>\n",
       "    <tr>\n",
       "      <th>1</th>\n",
       "      <td>EP19780100395</td>\n",
       "      <td>16427449.0</td>\n",
       "      <td>2214748.0</td>\n",
       "      <td>Johnston, Michael Denis</td>\n",
       "      <td>16 Altyre Way,Beckenham Kent</td>\n",
       "      <td>UKJ42</td>\n",
       "      <td>GB</td>\n",
       "      <td>1977</td>\n",
       "      <td>1978</td>\n",
       "      <td>C07K014/555</td>\n",
       "    </tr>\n",
       "    <tr>\n",
       "      <th>2</th>\n",
       "      <td>EP19780100395</td>\n",
       "      <td>16427449.0</td>\n",
       "      <td>2214748.0</td>\n",
       "      <td>Johnston, Michael Denis</td>\n",
       "      <td>16 Altyre Way,Beckenham Kent</td>\n",
       "      <td>UKJ42</td>\n",
       "      <td>GB</td>\n",
       "      <td>1977</td>\n",
       "      <td>1978</td>\n",
       "      <td>C12P021/00</td>\n",
       "    </tr>\n",
       "    <tr>\n",
       "      <th>3</th>\n",
       "      <td>EP19780100463</td>\n",
       "      <td>16427512.0</td>\n",
       "      <td>2214885.0</td>\n",
       "      <td>Wilkinson, Samuel</td>\n",
       "      <td>12 Bevington Road,Beckenham, Kent</td>\n",
       "      <td>UKJ42</td>\n",
       "      <td>GB</td>\n",
       "      <td>1977</td>\n",
       "      <td>1978</td>\n",
       "      <td>A61K038/00</td>\n",
       "    </tr>\n",
       "    <tr>\n",
       "      <th>4</th>\n",
       "      <td>EP19780100463</td>\n",
       "      <td>16427512.0</td>\n",
       "      <td>2214885.0</td>\n",
       "      <td>Wilkinson, Samuel</td>\n",
       "      <td>12 Bevington Road,Beckenham, Kent</td>\n",
       "      <td>UKJ42</td>\n",
       "      <td>GB</td>\n",
       "      <td>1977</td>\n",
       "      <td>1978</td>\n",
       "      <td>A61P001/12</td>\n",
       "    </tr>\n",
       "  </tbody>\n",
       "</table>\n",
       "</div>"
      ],
      "text/plain": [
       "         app_nbr    appln_id  person_id                 inv_name  \\\n",
       "0  EP19780100395  16427449.0  2214748.0  Johnston, Michael Denis   \n",
       "1  EP19780100395  16427449.0  2214748.0  Johnston, Michael Denis   \n",
       "2  EP19780100395  16427449.0  2214748.0  Johnston, Michael Denis   \n",
       "3  EP19780100463  16427512.0  2214885.0        Wilkinson, Samuel   \n",
       "4  EP19780100463  16427512.0  2214885.0        Wilkinson, Samuel   \n",
       "\n",
       "                             address reg_code ctry_code  prio_year  app_year  \\\n",
       "0       16 Altyre Way,Beckenham Kent    UKJ42        GB       1977      1978   \n",
       "1       16 Altyre Way,Beckenham Kent    UKJ42        GB       1977      1978   \n",
       "2       16 Altyre Way,Beckenham Kent    UKJ42        GB       1977      1978   \n",
       "3  12 Bevington Road,Beckenham, Kent    UKJ42        GB       1977      1978   \n",
       "4  12 Bevington Road,Beckenham, Kent    UKJ42        GB       1977      1978   \n",
       "\n",
       "           IPC  \n",
       "0   A61K038/21  \n",
       "1  C07K014/555  \n",
       "2   C12P021/00  \n",
       "3   A61K038/00  \n",
       "4   A61P001/12  "
      ]
     },
     "execution_count": 5,
     "metadata": {},
     "output_type": "execute_result"
    }
   ],
   "source": [
    "inv = pd.read_csv('data/inv_pharma_wIPC.csv')\n",
    "inv.head()"
   ]
  },
  {
   "cell_type": "code",
   "execution_count": 47,
   "id": "78175b92-48b2-40f3-be2a-ec7063f515e6",
   "metadata": {},
   "outputs": [
    {
     "data": {
      "text/plain": [
       "207766"
      ]
     },
     "execution_count": 47,
     "metadata": {},
     "output_type": "execute_result"
    }
   ],
   "source": [
    "len(inv)"
   ]
  },
  {
   "cell_type": "code",
   "execution_count": 10,
   "id": "0e56e494-55ad-4506-b83e-137940ba31fe",
   "metadata": {},
   "outputs": [
    {
     "data": {
      "text/html": [
       "<div>\n",
       "<style scoped>\n",
       "    .dataframe tbody tr th:only-of-type {\n",
       "        vertical-align: middle;\n",
       "    }\n",
       "\n",
       "    .dataframe tbody tr th {\n",
       "        vertical-align: top;\n",
       "    }\n",
       "\n",
       "    .dataframe thead th {\n",
       "        text-align: right;\n",
       "    }\n",
       "</style>\n",
       "<table border=\"1\" class=\"dataframe\">\n",
       "  <thead>\n",
       "    <tr style=\"text-align: right;\">\n",
       "      <th></th>\n",
       "      <th>Citing_app_nbr</th>\n",
       "      <th>Cited_App_nbr</th>\n",
       "      <th>IPC_Citing</th>\n",
       "      <th>reg_code_citing</th>\n",
       "      <th>prio_year_citing</th>\n",
       "      <th>IPC_Cited</th>\n",
       "      <th>reg_code_Cited</th>\n",
       "      <th>prio_year_cited</th>\n",
       "    </tr>\n",
       "  </thead>\n",
       "  <tbody>\n",
       "    <tr>\n",
       "      <th>4957</th>\n",
       "      <td>EP19970929378</td>\n",
       "      <td>EP19810901804</td>\n",
       "      <td>C07K016/18</td>\n",
       "      <td>UKH12</td>\n",
       "      <td>1996.0</td>\n",
       "      <td>B05D005/08</td>\n",
       "      <td>UKI23</td>\n",
       "      <td>1980</td>\n",
       "    </tr>\n",
       "    <tr>\n",
       "      <th>4958</th>\n",
       "      <td>EP19970929378</td>\n",
       "      <td>EP19810901804</td>\n",
       "      <td>C07K016/18</td>\n",
       "      <td>UKK43</td>\n",
       "      <td>1996.0</td>\n",
       "      <td>B05D005/08</td>\n",
       "      <td>UKI23</td>\n",
       "      <td>1980</td>\n",
       "    </tr>\n",
       "    <tr>\n",
       "      <th>4963</th>\n",
       "      <td>EP19990956245</td>\n",
       "      <td>EP19840902466</td>\n",
       "      <td>C12N001/38</td>\n",
       "      <td>UKF21</td>\n",
       "      <td>1998.0</td>\n",
       "      <td>B05B015/00</td>\n",
       "      <td>UKH33</td>\n",
       "      <td>1984</td>\n",
       "    </tr>\n",
       "    <tr>\n",
       "      <th>4964</th>\n",
       "      <td>EP19990932045</td>\n",
       "      <td>EP19860904252</td>\n",
       "      <td>A61K008/34</td>\n",
       "      <td>UKJ23</td>\n",
       "      <td>1998.0</td>\n",
       "      <td>A61G005/04</td>\n",
       "      <td>UKG22</td>\n",
       "      <td>1985</td>\n",
       "    </tr>\n",
       "    <tr>\n",
       "      <th>4965</th>\n",
       "      <td>EP19990932045</td>\n",
       "      <td>EP19860904252</td>\n",
       "      <td>A61K008/34</td>\n",
       "      <td>UKI23</td>\n",
       "      <td>1998.0</td>\n",
       "      <td>A61G005/04</td>\n",
       "      <td>UKG22</td>\n",
       "      <td>1985</td>\n",
       "    </tr>\n",
       "  </tbody>\n",
       "</table>\n",
       "</div>"
      ],
      "text/plain": [
       "     Citing_app_nbr  Cited_App_nbr  IPC_Citing reg_code_citing  \\\n",
       "4957  EP19970929378  EP19810901804  C07K016/18           UKH12   \n",
       "4958  EP19970929378  EP19810901804  C07K016/18           UKK43   \n",
       "4963  EP19990956245  EP19840902466  C12N001/38           UKF21   \n",
       "4964  EP19990932045  EP19860904252  A61K008/34           UKJ23   \n",
       "4965  EP19990932045  EP19860904252  A61K008/34           UKI23   \n",
       "\n",
       "      prio_year_citing   IPC_Cited reg_code_Cited  prio_year_cited  \n",
       "4957            1996.0  B05D005/08          UKI23             1980  \n",
       "4958            1996.0  B05D005/08          UKI23             1980  \n",
       "4963            1998.0  B05B015/00          UKH33             1984  \n",
       "4964            1998.0  A61G005/04          UKG22             1985  \n",
       "4965            1998.0  A61G005/04          UKG22             1985  "
      ]
     },
     "execution_count": 10,
     "metadata": {},
     "output_type": "execute_result"
    }
   ],
   "source": [
    "citing_app_nbr_set = set(cite['Citing_app_nbr'])\n",
    "app_nbr_set = set(inv['app_nbr'])\n",
    "diff_set = citing_app_nbr_set.difference(app_nbr_set)\n",
    "new_df = cite[cite['Citing_app_nbr'].isin(diff_set)]\n",
    "new_df.head()"
   ]
  },
  {
   "cell_type": "code",
   "execution_count": 12,
   "id": "41af5ed8-3922-46b1-8bf7-5da2525e647e",
   "metadata": {},
   "outputs": [
    {
     "name": "stdout",
     "output_type": "stream",
     "text": [
      "Empty DataFrame\n",
      "Columns: [app_nbr, appln_id, person_id, inv_name, address, reg_code, ctry_code, prio_year, app_year, IPC]\n",
      "Index: []\n"
     ]
    }
   ],
   "source": [
    "row = inv.loc[inv['app_nbr'] == 'EP19990932045']\n",
    "\n",
    "print(row.head())"
   ]
  },
  {
   "cell_type": "code",
   "execution_count": 42,
   "id": "2d45da7c-c0fc-410d-a293-d5d66c7e6638",
   "metadata": {},
   "outputs": [
    {
     "data": {
      "text/html": [
       "<div>\n",
       "<style scoped>\n",
       "    .dataframe tbody tr th:only-of-type {\n",
       "        vertical-align: middle;\n",
       "    }\n",
       "\n",
       "    .dataframe tbody tr th {\n",
       "        vertical-align: top;\n",
       "    }\n",
       "\n",
       "    .dataframe thead th {\n",
       "        text-align: right;\n",
       "    }\n",
       "</style>\n",
       "<table border=\"1\" class=\"dataframe\">\n",
       "  <thead>\n",
       "    <tr style=\"text-align: right;\">\n",
       "      <th></th>\n",
       "      <th>app_nbr</th>\n",
       "      <th>IPC</th>\n",
       "      <th>reg_code</th>\n",
       "      <th>prio_year</th>\n",
       "    </tr>\n",
       "  </thead>\n",
       "  <tbody>\n",
       "    <tr>\n",
       "      <th>4957</th>\n",
       "      <td>EP19970929378</td>\n",
       "      <td>C07K016/18</td>\n",
       "      <td>UKH12</td>\n",
       "      <td>1996.0</td>\n",
       "    </tr>\n",
       "    <tr>\n",
       "      <th>4958</th>\n",
       "      <td>EP19970929378</td>\n",
       "      <td>C07K016/18</td>\n",
       "      <td>UKK43</td>\n",
       "      <td>1996.0</td>\n",
       "    </tr>\n",
       "    <tr>\n",
       "      <th>4963</th>\n",
       "      <td>EP19990956245</td>\n",
       "      <td>C12N001/38</td>\n",
       "      <td>UKF21</td>\n",
       "      <td>1998.0</td>\n",
       "    </tr>\n",
       "    <tr>\n",
       "      <th>4964</th>\n",
       "      <td>EP19990932045</td>\n",
       "      <td>A61K008/34</td>\n",
       "      <td>UKJ23</td>\n",
       "      <td>1998.0</td>\n",
       "    </tr>\n",
       "    <tr>\n",
       "      <th>4965</th>\n",
       "      <td>EP19990932045</td>\n",
       "      <td>A61K008/34</td>\n",
       "      <td>UKI23</td>\n",
       "      <td>1998.0</td>\n",
       "    </tr>\n",
       "  </tbody>\n",
       "</table>\n",
       "</div>"
      ],
      "text/plain": [
       "            app_nbr         IPC reg_code  prio_year\n",
       "4957  EP19970929378  C07K016/18    UKH12     1996.0\n",
       "4958  EP19970929378  C07K016/18    UKK43     1996.0\n",
       "4963  EP19990956245  C12N001/38    UKF21     1998.0\n",
       "4964  EP19990932045  A61K008/34    UKJ23     1998.0\n",
       "4965  EP19990932045  A61K008/34    UKI23     1998.0"
      ]
     },
     "execution_count": 42,
     "metadata": {},
     "output_type": "execute_result"
    }
   ],
   "source": [
    "new_df = new_df.drop(['Cited_App_nbr','IPC_Cited','reg_code_Cited','prio_year_cited'], axis = 1)\n",
    "new_df = new_df.rename(columns={\"Citing_app_nbr\": \"app_nbr\",\"IPC_Citing\": \"IPC\",\"reg_code_citing\":\"reg_code\",\"prio_year_citing\":\"prio_year\"})\n",
    "new_df.head()"
   ]
  },
  {
   "cell_type": "code",
   "execution_count": 50,
   "id": "14df34e2-8ed3-4d57-bb3a-660452ef9b63",
   "metadata": {},
   "outputs": [
    {
     "data": {
      "text/plain": [
       "347"
      ]
     },
     "execution_count": 50,
     "metadata": {},
     "output_type": "execute_result"
    }
   ],
   "source": [
    "len(new_df)"
   ]
  },
  {
   "cell_type": "code",
   "execution_count": 43,
   "id": "645f6d87-edcf-41ff-8015-1b3883a100c7",
   "metadata": {},
   "outputs": [],
   "source": [
    "new_df['prio_year'] = new_df['prio_year'].astype(str)"
   ]
  },
  {
   "cell_type": "code",
   "execution_count": 48,
   "id": "0713758e-219b-4f6b-98b0-3c7b827e08a6",
   "metadata": {},
   "outputs": [
    {
     "name": "stderr",
     "output_type": "stream",
     "text": [
      "/tmp/ipykernel_3758/4252897809.py:1: FutureWarning: The frame.append method is deprecated and will be removed from pandas in a future version. Use pandas.concat instead.\n",
      "  inv_new = inv.append(new_df, ignore_index=True)\n"
     ]
    }
   ],
   "source": [
    "inv_new = inv.append(new_df, ignore_index=True)"
   ]
  },
  {
   "cell_type": "code",
   "execution_count": 49,
   "id": "3fc820c7-95a1-414a-bce4-c05c2c3207ab",
   "metadata": {},
   "outputs": [
    {
     "data": {
      "text/plain": [
       "208113"
      ]
     },
     "execution_count": 49,
     "metadata": {},
     "output_type": "execute_result"
    }
   ],
   "source": [
    "len(inv_new)"
   ]
  },
  {
   "cell_type": "code",
   "execution_count": 53,
   "id": "26d27325-4d77-4dd2-8485-cf608a42e7e9",
   "metadata": {},
   "outputs": [
    {
     "data": {
      "text/plain": [
       "0"
      ]
     },
     "execution_count": 53,
     "metadata": {},
     "output_type": "execute_result"
    }
   ],
   "source": [
    "mis = inv_new['reg_code'].isnull().sum()\n",
    "mis"
   ]
  },
  {
   "cell_type": "code",
   "execution_count": 54,
   "id": "2ac2ed5f-8411-4ff1-b165-ab6f2b3203ae",
   "metadata": {},
   "outputs": [],
   "source": [
    "inv_new.to_csv('data/inv_pharma_wIPC.csv')"
   ]
  },
  {
   "cell_type": "code",
   "execution_count": 15,
   "id": "356244fe-a158-491e-a081-12b08272bb4e",
   "metadata": {},
   "outputs": [],
   "source": [
    "ipc = dd.read_parquet('data_process/ipc_pharma.parquet')"
   ]
  },
  {
   "cell_type": "code",
   "execution_count": 16,
   "id": "2d2ac2de-d872-4d29-9513-b8c1de0b022d",
   "metadata": {},
   "outputs": [
    {
     "data": {
      "text/html": [
       "<div>\n",
       "<style scoped>\n",
       "    .dataframe tbody tr th:only-of-type {\n",
       "        vertical-align: middle;\n",
       "    }\n",
       "\n",
       "    .dataframe tbody tr th {\n",
       "        vertical-align: top;\n",
       "    }\n",
       "\n",
       "    .dataframe thead th {\n",
       "        text-align: right;\n",
       "    }\n",
       "</style>\n",
       "<table border=\"1\" class=\"dataframe\">\n",
       "  <thead>\n",
       "    <tr style=\"text-align: right;\">\n",
       "      <th></th>\n",
       "      <th>appln_id</th>\n",
       "      <th>prio_year</th>\n",
       "      <th>app_year</th>\n",
       "      <th>IPC</th>\n",
       "    </tr>\n",
       "  </thead>\n",
       "  <tbody>\n",
       "    <tr>\n",
       "      <th>8</th>\n",
       "      <td>2</td>\n",
       "      <td>1991</td>\n",
       "      <td>1992</td>\n",
       "      <td>C07K014/00</td>\n",
       "    </tr>\n",
       "    <tr>\n",
       "      <th>9</th>\n",
       "      <td>2</td>\n",
       "      <td>1991</td>\n",
       "      <td>1992</td>\n",
       "      <td>C07K016/00</td>\n",
       "    </tr>\n",
       "    <tr>\n",
       "      <th>10</th>\n",
       "      <td>2</td>\n",
       "      <td>1991</td>\n",
       "      <td>1992</td>\n",
       "      <td>C07K016/18</td>\n",
       "    </tr>\n",
       "    <tr>\n",
       "      <th>11</th>\n",
       "      <td>2</td>\n",
       "      <td>1991</td>\n",
       "      <td>1992</td>\n",
       "      <td>C07K016/24</td>\n",
       "    </tr>\n",
       "    <tr>\n",
       "      <th>12</th>\n",
       "      <td>2</td>\n",
       "      <td>1991</td>\n",
       "      <td>1992</td>\n",
       "      <td>C07K016/26</td>\n",
       "    </tr>\n",
       "  </tbody>\n",
       "</table>\n",
       "</div>"
      ],
      "text/plain": [
       "    appln_id  prio_year  app_year         IPC\n",
       "8          2       1991      1992  C07K014/00\n",
       "9          2       1991      1992  C07K016/00\n",
       "10         2       1991      1992  C07K016/18\n",
       "11         2       1991      1992  C07K016/24\n",
       "12         2       1991      1992  C07K016/26"
      ]
     },
     "execution_count": 16,
     "metadata": {},
     "output_type": "execute_result"
    }
   ],
   "source": [
    "ipc.head()"
   ]
  },
  {
   "cell_type": "code",
   "execution_count": 23,
   "id": "0b9ada7c-1dde-4045-8202-49728937bab2",
   "metadata": {},
   "outputs": [],
   "source": [
    "ipc = ipc.compute()"
   ]
  },
  {
   "cell_type": "code",
   "execution_count": 34,
   "id": "b8faa4d0-9e4f-4b63-bfdb-55a75266a544",
   "metadata": {},
   "outputs": [],
   "source": [
    "ipc['prio_year'] = ipc['prio_year'].astype(int).astype(str)\n",
    "ipc_2017 = ipc[ipc['prio_year'] == '2017']\n",
    "ipc_2016 = ipc[ipc['prio_year'] == '2016']"
   ]
  },
  {
   "cell_type": "code",
   "execution_count": 40,
   "id": "d0247004-fbbb-472b-bb69-5e45eecde5d1",
   "metadata": {},
   "outputs": [
    {
     "name": "stdout",
     "output_type": "stream",
     "text": [
      "156\n",
      "2217\n"
     ]
    }
   ],
   "source": [
    "print(len(ipc_2017))\n",
    "print(len(ipc_2016))"
   ]
  },
  {
   "cell_type": "code",
   "execution_count": 26,
   "id": "df0b6160-03f6-4ef9-9813-8c76d1fb63bc",
   "metadata": {},
   "outputs": [
    {
     "name": "stdout",
     "output_type": "stream",
     "text": [
      "[1991 2002 2000 2003 2005 2004 1995 2008 1978 1985 1986 1990 2007 1999\n",
      " 1998 1988 1994 1996 2001 2006 1989 1992 1993 1997 1984 1983 1987 1981\n",
      " 1982 1977 1979 1980 2009 2010 2011 2012 2013 2014 2015 2016 2017]\n"
     ]
    }
   ],
   "source": [
    "print(ipc['prio_year'].unique())"
   ]
  },
  {
   "cell_type": "code",
   "execution_count": null,
   "id": "5b910abe-4745-473b-95e8-82edd8e0f8cd",
   "metadata": {},
   "outputs": [],
   "source": []
  }
 ],
 "metadata": {
  "kernelspec": {
   "display_name": "Python 3 (ipykernel)",
   "language": "python",
   "name": "python3"
  },
  "language_info": {
   "codemirror_mode": {
    "name": "ipython",
    "version": 3
   },
   "file_extension": ".py",
   "mimetype": "text/x-python",
   "name": "python",
   "nbconvert_exporter": "python",
   "pygments_lexer": "ipython3",
   "version": "3.10.5"
  }
 },
 "nbformat": 4,
 "nbformat_minor": 5
}
